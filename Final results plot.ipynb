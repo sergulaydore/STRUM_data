{
 "metadata": {
  "name": "",
  "signature": "sha256:17ecc138d35acb1a5984c2b646457e9d4a366725a81bc2bd4df4a95892fd963e"
 },
 "nbformat": 3,
 "nbformat_minor": 0,
 "worksheets": [
  {
   "cells": [
    {
     "cell_type": "code",
     "collapsed": false,
     "input": [
      "import pandas as pd\n",
      "import seaborn as sns"
     ],
     "language": "python",
     "metadata": {},
     "outputs": [],
     "prompt_number": 9
    },
    {
     "cell_type": "code",
     "collapsed": false,
     "input": [
      "results = pd.read_csv('all_results.csv')"
     ],
     "language": "python",
     "metadata": {},
     "outputs": [],
     "prompt_number": 45
    },
    {
     "cell_type": "code",
     "collapsed": false,
     "input": [
      "results.columns"
     ],
     "language": "python",
     "metadata": {},
     "outputs": [
      {
       "metadata": {},
       "output_type": "pyout",
       "prompt_number": 46,
       "text": [
        "Index([u'Unnamed: 0', u'acc', u'auc', u'modalities', u'y_pred_all', u'y_true_all'], dtype='object')"
       ]
      }
     ],
     "prompt_number": 46
    },
    {
     "cell_type": "code",
     "collapsed": false,
     "input": [
      "results.rename(columns={'Unnamed: 0': 'Subjects'}, inplace=True)"
     ],
     "language": "python",
     "metadata": {},
     "outputs": [],
     "prompt_number": 47
    },
    {
     "cell_type": "code",
     "collapsed": false,
     "input": [
      "results.head()"
     ],
     "language": "python",
     "metadata": {},
     "outputs": [
      {
       "html": [
        "<div style=\"max-height:1000px;max-width:1500px;overflow:auto;\">\n",
        "<table border=\"1\" class=\"dataframe\">\n",
        "  <thead>\n",
        "    <tr style=\"text-align: right;\">\n",
        "      <th></th>\n",
        "      <th>Subjects</th>\n",
        "      <th>acc</th>\n",
        "      <th>auc</th>\n",
        "      <th>modalities</th>\n",
        "      <th>y_pred_all</th>\n",
        "      <th>y_true_all</th>\n",
        "    </tr>\n",
        "  </thead>\n",
        "  <tbody>\n",
        "    <tr>\n",
        "      <th>0</th>\n",
        "      <td> 0</td>\n",
        "      <td> 0.684211</td>\n",
        "      <td> 0.680108</td>\n",
        "      <td> EEG-Stim,EEG-Cue,Pupil</td>\n",
        "      <td> [ 0.5032688   0.50560807  0.50498179  0.504296...</td>\n",
        "      <td> [0 0 1 1 1 1 1 1 1 0 1 1 1 1 1 1 1 1 0 0 0 1 1...</td>\n",
        "    </tr>\n",
        "    <tr>\n",
        "      <th>1</th>\n",
        "      <td> 1</td>\n",
        "      <td> 0.840426</td>\n",
        "      <td> 0.841053</td>\n",
        "      <td> EEG-Stim,EEG-Cue,Pupil</td>\n",
        "      <td> [ 0.74657451  0.79692981  0.6360364   0.750587...</td>\n",
        "      <td> [1 1 1 1 1 1 1 1 0 0 1 1 1 1 1 1 1 1 1 0 1 1 1...</td>\n",
        "    </tr>\n",
        "    <tr>\n",
        "      <th>2</th>\n",
        "      <td> 2</td>\n",
        "      <td> 0.785714</td>\n",
        "      <td> 0.796188</td>\n",
        "      <td> EEG-Stim,EEG-Cue,Pupil</td>\n",
        "      <td> [ 0.35762471  0.38158613  0.33111789  0.364070...</td>\n",
        "      <td> [1 1 1 1 0 0 0 0 0 1 1 1 1 1 1 1 1 1 1 1 1 1 1...</td>\n",
        "    </tr>\n",
        "    <tr>\n",
        "      <th>3</th>\n",
        "      <td> 3</td>\n",
        "      <td> 0.761194</td>\n",
        "      <td> 0.781765</td>\n",
        "      <td> EEG-Stim,EEG-Cue,Pupil</td>\n",
        "      <td> [  4.07467704e-01   7.22285450e-01   6.1677497...</td>\n",
        "      <td> [1 1 1 1 0 0 0 1 1 1 1 1 1 0 1 1 1 1 1 1 1 1 1...</td>\n",
        "    </tr>\n",
        "    <tr>\n",
        "      <th>4</th>\n",
        "      <td> 4</td>\n",
        "      <td> 0.618182</td>\n",
        "      <td> 0.785714</td>\n",
        "      <td> EEG-Stim,EEG-Cue,Pupil</td>\n",
        "      <td> [ 0.5061518   0.50143524  0.50152674  0.497043...</td>\n",
        "      <td> [1 1 1 1 1 0 1 1 1 1 1 1 1 1 1 1 1 1 1 1 1 1 1...</td>\n",
        "    </tr>\n",
        "  </tbody>\n",
        "</table>\n",
        "</div>"
       ],
       "metadata": {},
       "output_type": "pyout",
       "prompt_number": 48,
       "text": [
        "   Subjects       acc       auc              modalities  \\\n",
        "0         0  0.684211  0.680108  EEG-Stim,EEG-Cue,Pupil   \n",
        "1         1  0.840426  0.841053  EEG-Stim,EEG-Cue,Pupil   \n",
        "2         2  0.785714  0.796188  EEG-Stim,EEG-Cue,Pupil   \n",
        "3         3  0.761194  0.781765  EEG-Stim,EEG-Cue,Pupil   \n",
        "4         4  0.618182  0.785714  EEG-Stim,EEG-Cue,Pupil   \n",
        "\n",
        "                                          y_pred_all  \\\n",
        "0  [ 0.5032688   0.50560807  0.50498179  0.504296...   \n",
        "1  [ 0.74657451  0.79692981  0.6360364   0.750587...   \n",
        "2  [ 0.35762471  0.38158613  0.33111789  0.364070...   \n",
        "3  [  4.07467704e-01   7.22285450e-01   6.1677497...   \n",
        "4  [ 0.5061518   0.50143524  0.50152674  0.497043...   \n",
        "\n",
        "                                          y_true_all  \n",
        "0  [0 0 1 1 1 1 1 1 1 0 1 1 1 1 1 1 1 1 0 0 0 1 1...  \n",
        "1  [1 1 1 1 1 1 1 1 0 0 1 1 1 1 1 1 1 1 1 0 1 1 1...  \n",
        "2  [1 1 1 1 0 0 0 0 0 1 1 1 1 1 1 1 1 1 1 1 1 1 1...  \n",
        "3  [1 1 1 1 0 0 0 1 1 1 1 1 1 0 1 1 1 1 1 1 1 1 1...  \n",
        "4  [1 1 1 1 1 0 1 1 1 1 1 1 1 1 1 1 1 1 1 1 1 1 1...  "
       ]
      }
     ],
     "prompt_number": 48
    },
    {
     "cell_type": "code",
     "collapsed": false,
     "input": [
      "%pylab inline"
     ],
     "language": "python",
     "metadata": {},
     "outputs": [
      {
       "output_type": "stream",
       "stream": "stdout",
       "text": [
        "Populating the interactive namespace from numpy and matplotlib\n"
       ]
      }
     ],
     "prompt_number": 49
    },
    {
     "cell_type": "code",
     "collapsed": false,
     "input": [
      "means = results.groupby('modalities').mean()\n",
      "x = means.sort('auc')\n",
      "sns.set_context(\"notebook\", font_scale=2, rc={\"lines.linewidth\": 2.5})\n",
      "sns.set_style(\"whitegrid\")\n",
      "#ax = sns.boxplot(results.auc, groupby=results.modalities, order = x.index.values, palette=\"BuPu\")\n",
      "ax = sns.barplot( \"modalities\", y=\"auc\", data=results, estimator=mean, palette=\"BuPu\", x_order=x.index.values)\n",
      "ax.set_ylim(0.4,0.9)\n",
      "ax.set_ylabel('Area under curve (AUC)')\n",
      "locs, labels = plt.xticks();\n",
      "plt.setp(labels, rotation=90);"
     ],
     "language": "python",
     "metadata": {},
     "outputs": [
      {
       "metadata": {},
       "output_type": "display_data",
       "png": "[encoded data removed]",
       "text": [
        "<matplotlib.figure.Figure at 0x10c39d9d0>"
       ]
      }
     ],
     "prompt_number": 50
    },
    {
     "cell_type": "code",
     "collapsed": false,
     "input": [
      "ax=sns.boxplot(results.auc, groupby=results.modalities, order = x.index.values)\n",
      "locs, labels = plt.xticks();\n",
      "ax.set_ylim(0.4,1.)\n",
      "ax.set_ylabel('Area under curve (AUC)')\n",
      "plt.setp(labels, rotation=90);"
     ],
     "language": "python",
     "metadata": {},
     "outputs": [
      {
       "metadata": {},
       "output_type": "display_data",
       "png": "[encoded data removed]",
       "text": [
        "<matplotlib.figure.Figure at 0x10c394ed0>"
       ]
      }
     ],
     "prompt_number": 51
    },
    {
     "cell_type": "code",
     "collapsed": false,
     "input": [
      "groups_by_subject = results.groupby(['Subjects','modalities'])"
     ],
     "language": "python",
     "metadata": {},
     "outputs": [],
     "prompt_number": 52
    },
    {
     "cell_type": "code",
     "collapsed": false,
     "input": [
      "groups_by_subject.groups"
     ],
     "language": "python",
     "metadata": {},
     "outputs": [
      {
       "metadata": {},
       "output_type": "pyout",
       "prompt_number": 53,
       "text": [
        "{(0, 'EEG-Cue'): [30],\n",
        " (0, 'EEG-Stim'): [25],\n",
        " (0, 'EEG-Stim,EEG-Cue'): [15],\n",
        " (0, 'EEG-Stim,EEG-Cue,Pupil'): [0],\n",
        " (0, 'EEG-Stim,EEG-Cue,Pupil,HR'): [10],\n",
        " (0, 'EEG-Stim,EEG-Cue,Pupil,RT'): [5],\n",
        " (0, 'HR'): [35],\n",
        " (0, 'Pupil'): [20],\n",
        " (0, 'RT'): [40],\n",
        " (1, 'EEG-Cue'): [31],\n",
        " (1, 'EEG-Stim'): [26],\n",
        " (1, 'EEG-Stim,EEG-Cue'): [16],\n",
        " (1, 'EEG-Stim,EEG-Cue,Pupil'): [1],\n",
        " (1, 'EEG-Stim,EEG-Cue,Pupil,HR'): [11],\n",
        " (1, 'EEG-Stim,EEG-Cue,Pupil,RT'): [6],\n",
        " (1, 'HR'): [36],\n",
        " (1, 'Pupil'): [21],\n",
        " (1, 'RT'): [41],\n",
        " (2, 'EEG-Cue'): [32],\n",
        " (2, 'EEG-Stim'): [27],\n",
        " (2, 'EEG-Stim,EEG-Cue'): [17],\n",
        " (2, 'EEG-Stim,EEG-Cue,Pupil'): [2],\n",
        " (2, 'EEG-Stim,EEG-Cue,Pupil,HR'): [12],\n",
        " (2, 'EEG-Stim,EEG-Cue,Pupil,RT'): [7],\n",
        " (2, 'HR'): [37],\n",
        " (2, 'Pupil'): [22],\n",
        " (2, 'RT'): [42],\n",
        " (3, 'EEG-Cue'): [33],\n",
        " (3, 'EEG-Stim'): [28],\n",
        " (3, 'EEG-Stim,EEG-Cue'): [18],\n",
        " (3, 'EEG-Stim,EEG-Cue,Pupil'): [3],\n",
        " (3, 'EEG-Stim,EEG-Cue,Pupil,HR'): [13],\n",
        " (3, 'EEG-Stim,EEG-Cue,Pupil,RT'): [8],\n",
        " (3, 'HR'): [38],\n",
        " (3, 'Pupil'): [23],\n",
        " (3, 'RT'): [43],\n",
        " (4, 'EEG-Cue'): [34],\n",
        " (4, 'EEG-Stim'): [29],\n",
        " (4, 'EEG-Stim,EEG-Cue'): [19],\n",
        " (4, 'EEG-Stim,EEG-Cue,Pupil'): [4],\n",
        " (4, 'EEG-Stim,EEG-Cue,Pupil,HR'): [14],\n",
        " (4, 'EEG-Stim,EEG-Cue,Pupil,RT'): [9],\n",
        " (4, 'HR'): [39],\n",
        " (4, 'Pupil'): [24],\n",
        " (4, 'RT'): [44]}"
       ]
      }
     ],
     "prompt_number": 53
    },
    {
     "cell_type": "code",
     "collapsed": false,
     "input": [
      "from sklearn.metrics import roc_curve, auc"
     ],
     "language": "python",
     "metadata": {},
     "outputs": [],
     "prompt_number": 54
    },
    {
     "cell_type": "code",
     "collapsed": false,
     "input": [
      "for idx, group_subject in enumerate(groups_by_subject):\n",
      "    if group_subject[0][0] == 1:\n",
      "        data = groups_by_subject.get_group(group_subject[0])\n",
      "        fpr, tpr, thresholds = roc_curve(data.y_true_all, data.y_pred_all)\n",
      "        \n",
      "        "
     ],
     "language": "python",
     "metadata": {},
     "outputs": [
      {
       "output_type": "stream",
       "stream": "stdout",
       "text": [
        "(1, 'EEG-Cue')\n",
        "(1, 'EEG-Stim')\n",
        "(1, 'EEG-Stim,EEG-Cue')\n",
        "(1, 'EEG-Stim,EEG-Cue,Pupil')\n",
        "(1, 'EEG-Stim,EEG-Cue,Pupil,HR')\n",
        "(1, 'EEG-Stim,EEG-Cue,Pupil,RT')\n",
        "(1, 'HR')\n",
        "(1, 'Pupil')\n",
        "(1, 'RT')\n"
       ]
      }
     ],
     "prompt_number": 44
    },
    {
     "cell_type": "code",
     "collapsed": false,
     "input": [
      "group_subject[0][1]"
     ],
     "language": "python",
     "metadata": {},
     "outputs": [
      {
       "metadata": {},
       "output_type": "pyout",
       "prompt_number": 42,
       "text": [
        "'RT'"
       ]
      }
     ],
     "prompt_number": 42
    },
    {
     "cell_type": "code",
     "collapsed": false,
     "input": [
      "fpr, tpr, thresholds = roc_curve(y[test], probas_[:, 1])\n",
      "\n",
      "roc_auc = auc(fpr, tpr)\n",
      "plt.plot(fpr, tpr, lw=1, label='ROC fold %d (area = %0.2f)' % (i, roc_auc))"
     ],
     "language": "python",
     "metadata": {},
     "outputs": []
    },
    {
     "cell_type": "code",
     "collapsed": false,
     "input": [
      "group_subject['y_true_all'] "
     ],
     "language": "python",
     "metadata": {},
     "outputs": [
      {
       "ename": "TypeError",
       "evalue": "tuple indices must be integers, not str",
       "output_type": "pyerr",
       "traceback": [
        "\u001b[0;31m---------------------------------------------------------------------------\u001b[0m\n\u001b[0;31mTypeError\u001b[0m                                 Traceback (most recent call last)",
        "\u001b[0;32m<ipython-input-56-42507660531c>\u001b[0m in \u001b[0;36m<module>\u001b[0;34m()\u001b[0m\n\u001b[0;32m----> 1\u001b[0;31m \u001b[0mgroup_subject\u001b[0m\u001b[0;34m[\u001b[0m\u001b[0;34m'y_true_all'\u001b[0m\u001b[0;34m]\u001b[0m\u001b[0;34m\u001b[0m\u001b[0m\n\u001b[0m",
        "\u001b[0;31mTypeError\u001b[0m: tuple indices must be integers, not str"
       ]
      }
     ],
     "prompt_number": 56
    },
    {
     "cell_type": "code",
     "collapsed": false,
     "input": [
      "group_subject"
     ],
     "language": "python",
     "metadata": {},
     "outputs": [
      {
       "metadata": {},
       "output_type": "pyout",
       "prompt_number": 59,
       "text": [
        "((4, 'RT'),     Subjects       acc  auc modalities  \\\n",
        " 44         4  0.890909  0.5         RT   \n",
        " \n",
        "                                            y_pred_all  \\\n",
        " 44  [1 1 1 1 1 1 1 1 1 1 1 1 1 1 1 1 1 1 1 1 1 1 1...   \n",
        " \n",
        "                                            y_true_all  \n",
        " 44  [1, 1, 1, 1, 1, 0, 1, 1, 1, 1, 1, 1, 1, 1, 1, ...  )"
       ]
      }
     ],
     "prompt_number": 59
    },
    {
     "cell_type": "code",
     "collapsed": false,
     "input": [
      "data = groups_by_subject.get_group(group_subject[0])"
     ],
     "language": "python",
     "metadata": {},
     "outputs": [],
     "prompt_number": 63
    },
    {
     "cell_type": "code",
     "collapsed": false,
     "input": [
      "fpr, tpr, thresholds = roc_curve(data.y_true_all, data.y_pred_all)"
     ],
     "language": "python",
     "metadata": {},
     "outputs": [
      {
       "ename": "ValueError",
       "evalue": "Data is not binary and pos_label is not specified",
       "output_type": "pyerr",
       "traceback": [
        "\u001b[0;31m---------------------------------------------------------------------------\u001b[0m\n\u001b[0;31mValueError\u001b[0m                                Traceback (most recent call last)",
        "\u001b[0;32m<ipython-input-64-eca45c17d7fc>\u001b[0m in \u001b[0;36m<module>\u001b[0;34m()\u001b[0m\n\u001b[0;32m----> 1\u001b[0;31m \u001b[0mfpr\u001b[0m\u001b[0;34m,\u001b[0m \u001b[0mtpr\u001b[0m\u001b[0;34m,\u001b[0m \u001b[0mthresholds\u001b[0m \u001b[0;34m=\u001b[0m \u001b[0mroc_curve\u001b[0m\u001b[0;34m(\u001b[0m\u001b[0mdata\u001b[0m\u001b[0;34m.\u001b[0m\u001b[0my_true_all\u001b[0m\u001b[0;34m,\u001b[0m \u001b[0mdata\u001b[0m\u001b[0;34m.\u001b[0m\u001b[0my_pred_all\u001b[0m\u001b[0;34m)\u001b[0m\u001b[0;34m\u001b[0m\u001b[0m\n\u001b[0m",
        "\u001b[0;32m/Users/sergulaydore/anaconda/lib/python2.7/site-packages/sklearn/metrics/metrics.pyc\u001b[0m in \u001b[0;36mroc_curve\u001b[0;34m(y_true, y_score, pos_label, sample_weight)\u001b[0m\n\u001b[1;32m    888\u001b[0m     \"\"\"\n\u001b[1;32m    889\u001b[0m     fps, tps, thresholds = _binary_clf_curve(\n\u001b[0;32m--> 890\u001b[0;31m         y_true, y_score, pos_label=pos_label, sample_weight=sample_weight)\n\u001b[0m\u001b[1;32m    891\u001b[0m \u001b[0;34m\u001b[0m\u001b[0m\n\u001b[1;32m    892\u001b[0m     \u001b[0;32mif\u001b[0m \u001b[0mtps\u001b[0m\u001b[0;34m.\u001b[0m\u001b[0msize\u001b[0m \u001b[0;34m==\u001b[0m \u001b[0;36m0\u001b[0m \u001b[0;32mor\u001b[0m \u001b[0mfps\u001b[0m\u001b[0;34m[\u001b[0m\u001b[0;36m0\u001b[0m\u001b[0;34m]\u001b[0m \u001b[0;34m!=\u001b[0m \u001b[0;36m0\u001b[0m\u001b[0;34m:\u001b[0m\u001b[0;34m\u001b[0m\u001b[0m\n",
        "\u001b[0;32m/Users/sergulaydore/anaconda/lib/python2.7/site-packages/sklearn/metrics/metrics.pyc\u001b[0m in \u001b[0;36m_binary_clf_curve\u001b[0;34m(y_true, y_score, pos_label, sample_weight)\u001b[0m\n\u001b[1;32m    708\u001b[0m              \u001b[0mnp\u001b[0m\u001b[0;34m.\u001b[0m\u001b[0mall\u001b[0m\u001b[0;34m(\u001b[0m\u001b[0mclasses\u001b[0m \u001b[0;34m==\u001b[0m \u001b[0;34m[\u001b[0m\u001b[0;34m-\u001b[0m\u001b[0;36m1\u001b[0m\u001b[0;34m]\u001b[0m\u001b[0;34m)\u001b[0m \u001b[0;32mor\u001b[0m\u001b[0;34m\u001b[0m\u001b[0m\n\u001b[1;32m    709\u001b[0m              np.all(classes == [1]))):\n\u001b[0;32m--> 710\u001b[0;31m         \u001b[0;32mraise\u001b[0m \u001b[0mValueError\u001b[0m\u001b[0;34m(\u001b[0m\u001b[0;34m\"Data is not binary and pos_label is not specified\"\u001b[0m\u001b[0;34m)\u001b[0m\u001b[0;34m\u001b[0m\u001b[0m\n\u001b[0m\u001b[1;32m    711\u001b[0m     \u001b[0;32melif\u001b[0m \u001b[0mpos_label\u001b[0m \u001b[0;32mis\u001b[0m \u001b[0mNone\u001b[0m\u001b[0;34m:\u001b[0m\u001b[0;34m\u001b[0m\u001b[0m\n\u001b[1;32m    712\u001b[0m         \u001b[0mpos_label\u001b[0m \u001b[0;34m=\u001b[0m \u001b[0;36m1.\u001b[0m\u001b[0;34m\u001b[0m\u001b[0m\n",
        "\u001b[0;31mValueError\u001b[0m: Data is not binary and pos_label is not specified"
       ]
      }
     ],
     "prompt_number": 64
    },
    {
     "cell_type": "code",
     "collapsed": false,
     "input": [
      "data.y_pred_all.values"
     ],
     "language": "python",
     "metadata": {},
     "outputs": [
      {
       "metadata": {},
       "output_type": "pyout",
       "prompt_number": 66,
       "text": [
        "array([ '[ 0.50352163  0.50393487  0.50396619  0.50363513  0.50358397  0.50373751\\n  0.86143448  0.80130439  0.87556911  0.88263866  0.89051899  0.83448105\\n  0.82072149  0.82601311  0.79529018  0.93881393  0.93923503  0.90324912\\n  0.84500697  0.82358073  0.80064781  0.93275038  0.91592042  0.89306655\\n  0.87266027  0.84216586  0.91654569  0.92146791  0.87728736  0.85896916\\n  0.89298674  0.91623919  0.91696246  0.87999584  0.90686675  0.50050427\\n  0.50047348  0.50053746  0.50051948  0.50048633  0.79377563  0.95106045\\n  0.95790178  0.88592712  0.9475561   0.50051925  0.5004469   0.50051213\\n  0.5004546   0.50049509  0.86085028  0.90760664  0.83985464  0.86070186\\n  0.80773145]'], dtype=object)"
       ]
      }
     ],
     "prompt_number": 66
    },
    {
     "cell_type": "code",
     "collapsed": false,
     "input": [
      "data.y_true_all.values"
     ],
     "language": "python",
     "metadata": {},
     "outputs": [
      {
       "metadata": {},
       "output_type": "pyout",
       "prompt_number": 67,
       "text": [
        "array([ '[1 1 1 1 1 0 1 1 1 1 1 1 1 1 1 1 1 1 1 1 1 1 1 1 1 1 1 1 1 0 1 1 1 0 0 1 1\\n 1 1 0 1 1 1 1 0 1 1 1 1 1 1 1 1 1 1]'], dtype=object)"
       ]
      }
     ],
     "prompt_number": 67
    },
    {
     "cell_type": "code",
     "collapsed": false,
     "input": [
      "data.y_true_all.values[0]"
     ],
     "language": "python",
     "metadata": {},
     "outputs": [
      {
       "metadata": {},
       "output_type": "pyout",
       "prompt_number": 68,
       "text": [
        "'[1 1 1 1 1 0 1 1 1 1 1 1 1 1 1 1 1 1 1 1 1 1 1 1 1 1 1 1 1 0 1 1 1 0 0 1 1\\n 1 1 0 1 1 1 1 0 1 1 1 1 1 1 1 1 1 1]'"
       ]
      }
     ],
     "prompt_number": 68
    },
    {
     "cell_type": "code",
     "collapsed": false,
     "input": [
      "data.y_pred_all.values[0]"
     ],
     "language": "python",
     "metadata": {},
     "outputs": [
      {
       "metadata": {},
       "output_type": "pyout",
       "prompt_number": 69,
       "text": [
        "'[ 0.50352163  0.50393487  0.50396619  0.50363513  0.50358397  0.50373751\\n  0.86143448  0.80130439  0.87556911  0.88263866  0.89051899  0.83448105\\n  0.82072149  0.82601311  0.79529018  0.93881393  0.93923503  0.90324912\\n  0.84500697  0.82358073  0.80064781  0.93275038  0.91592042  0.89306655\\n  0.87266027  0.84216586  0.91654569  0.92146791  0.87728736  0.85896916\\n  0.89298674  0.91623919  0.91696246  0.87999584  0.90686675  0.50050427\\n  0.50047348  0.50053746  0.50051948  0.50048633  0.79377563  0.95106045\\n  0.95790178  0.88592712  0.9475561   0.50051925  0.5004469   0.50051213\\n  0.5004546   0.50049509  0.86085028  0.90760664  0.83985464  0.86070186\\n  0.80773145]'"
       ]
      }
     ],
     "prompt_number": 69
    },
    {
     "cell_type": "code",
     "collapsed": false,
     "input": [
      "data.iloc[0].y_pred_all"
     ],
     "language": "python",
     "metadata": {},
     "outputs": [
      {
       "metadata": {},
       "output_type": "pyout",
       "prompt_number": 73,
       "text": [
        "'[ 0.50352163  0.50393487  0.50396619  0.50363513  0.50358397  0.50373751\\n  0.86143448  0.80130439  0.87556911  0.88263866  0.89051899  0.83448105\\n  0.82072149  0.82601311  0.79529018  0.93881393  0.93923503  0.90324912\\n  0.84500697  0.82358073  0.80064781  0.93275038  0.91592042  0.89306655\\n  0.87266027  0.84216586  0.91654569  0.92146791  0.87728736  0.85896916\\n  0.89298674  0.91623919  0.91696246  0.87999584  0.90686675  0.50050427\\n  0.50047348  0.50053746  0.50051948  0.50048633  0.79377563  0.95106045\\n  0.95790178  0.88592712  0.9475561   0.50051925  0.5004469   0.50051213\\n  0.5004546   0.50049509  0.86085028  0.90760664  0.83985464  0.86070186\\n  0.80773145]'"
       ]
      }
     ],
     "prompt_number": 73
    },
    {
     "cell_type": "code",
     "collapsed": false,
     "input": [
      "x = data.iloc[0].y_pred_all"
     ],
     "language": "python",
     "metadata": {},
     "outputs": [],
     "prompt_number": 75
    },
    {
     "cell_type": "code",
     "collapsed": false,
     "input": [
      "x"
     ],
     "language": "python",
     "metadata": {},
     "outputs": [
      {
       "metadata": {},
       "output_type": "pyout",
       "prompt_number": 76,
       "text": [
        "'[ 0.50352163  0.50393487  0.50396619  0.50363513  0.50358397  0.50373751\\n  0.86143448  0.80130439  0.87556911  0.88263866  0.89051899  0.83448105\\n  0.82072149  0.82601311  0.79529018  0.93881393  0.93923503  0.90324912\\n  0.84500697  0.82358073  0.80064781  0.93275038  0.91592042  0.89306655\\n  0.87266027  0.84216586  0.91654569  0.92146791  0.87728736  0.85896916\\n  0.89298674  0.91623919  0.91696246  0.87999584  0.90686675  0.50050427\\n  0.50047348  0.50053746  0.50051948  0.50048633  0.79377563  0.95106045\\n  0.95790178  0.88592712  0.9475561   0.50051925  0.5004469   0.50051213\\n  0.5004546   0.50049509  0.86085028  0.90760664  0.83985464  0.86070186\\n  0.80773145]'"
       ]
      }
     ],
     "prompt_number": 76
    },
    {
     "cell_type": "code",
     "collapsed": false,
     "input": [
      "float(x)"
     ],
     "language": "python",
     "metadata": {},
     "outputs": [
      {
       "ename": "ValueError",
       "evalue": "could not convert string to float: [ 0.50352163  0.50393487  0.50396619  0.50363513  0.50358397  0.50373751\n  0.86143448  0.80130439  0.87556911  0.88263866  0.89051899  0.83448105\n  0.82072149  0.82601311  0.79529018  0.93881393  0.93",
       "output_type": "pyerr",
       "traceback": [
        "\u001b[0;31m---------------------------------------------------------------------------\u001b[0m\n\u001b[0;31mValueError\u001b[0m                                Traceback (most recent call last)",
        "\u001b[0;32m<ipython-input-77-0800f2f06ffc>\u001b[0m in \u001b[0;36m<module>\u001b[0;34m()\u001b[0m\n\u001b[0;32m----> 1\u001b[0;31m \u001b[0mfloat\u001b[0m\u001b[0;34m(\u001b[0m\u001b[0mx\u001b[0m\u001b[0;34m)\u001b[0m\u001b[0;34m\u001b[0m\u001b[0m\n\u001b[0m",
        "\u001b[0;31mValueError\u001b[0m: could not convert string to float: [ 0.50352163  0.50393487  0.50396619  0.50363513  0.50358397  0.50373751\n  0.86143448  0.80130439  0.87556911  0.88263866  0.89051899  0.83448105\n  0.82072149  0.82601311  0.79529018  0.93881393  0.93"
       ]
      }
     ],
     "prompt_number": 77
    },
    {
     "cell_type": "code",
     "collapsed": false,
     "input": [
      "x_split_space = x.split('  ')"
     ],
     "language": "python",
     "metadata": {},
     "outputs": [],
     "prompt_number": 103
    },
    {
     "cell_type": "code",
     "collapsed": false,
     "input": [
      "x_split_space"
     ],
     "language": "python",
     "metadata": {},
     "outputs": [
      {
       "metadata": {},
       "output_type": "pyout",
       "prompt_number": 104,
       "text": [
        "['[ 0.50352163',\n",
        " '0.50393487',\n",
        " '0.50396619',\n",
        " '0.50363513',\n",
        " '0.50358397',\n",
        " '0.50373751\\n',\n",
        " '0.86143448',\n",
        " '0.80130439',\n",
        " '0.87556911',\n",
        " '0.88263866',\n",
        " '0.89051899',\n",
        " '0.83448105\\n',\n",
        " '0.82072149',\n",
        " '0.82601311',\n",
        " '0.79529018',\n",
        " '0.93881393',\n",
        " '0.93923503',\n",
        " '0.90324912\\n',\n",
        " '0.84500697',\n",
        " '0.82358073',\n",
        " '0.80064781',\n",
        " '0.93275038',\n",
        " '0.91592042',\n",
        " '0.89306655\\n',\n",
        " '0.87266027',\n",
        " '0.84216586',\n",
        " '0.91654569',\n",
        " '0.92146791',\n",
        " '0.87728736',\n",
        " '0.85896916\\n',\n",
        " '0.89298674',\n",
        " '0.91623919',\n",
        " '0.91696246',\n",
        " '0.87999584',\n",
        " '0.90686675',\n",
        " '0.50050427\\n',\n",
        " '0.50047348',\n",
        " '0.50053746',\n",
        " '0.50051948',\n",
        " '0.50048633',\n",
        " '0.79377563',\n",
        " '0.95106045\\n',\n",
        " '0.95790178',\n",
        " '0.88592712',\n",
        " '0.9475561',\n",
        " ' 0.50051925',\n",
        " '0.5004469',\n",
        " ' 0.50051213\\n',\n",
        " '0.5004546',\n",
        " ' 0.50049509',\n",
        " '0.86085028',\n",
        " '0.90760664',\n",
        " '0.83985464',\n",
        " '0.86070186\\n',\n",
        " '0.80773145]']"
       ]
      }
     ],
     "prompt_number": 104
    },
    {
     "cell_type": "code",
     "collapsed": false,
     "input": [
      "pd.load('all_results_new')"
     ],
     "language": "python",
     "metadata": {},
     "outputs": [
      {
       "output_type": "stream",
       "stream": "stderr",
       "text": [
        "/Users/sergulaydore/anaconda/lib/python2.7/site-packages/pandas/core/common.py:3180: FutureWarning: load is deprecated, use read_pickle\n",
        "  warnings.warn(\"load is deprecated, use read_pickle\", FutureWarning)\n"
       ]
      },
      {
       "html": [
        "<div style=\"max-height:1000px;max-width:1500px;overflow:auto;\">\n",
        "<table border=\"1\" class=\"dataframe\">\n",
        "  <thead>\n",
        "    <tr style=\"text-align: right;\">\n",
        "      <th></th>\n",
        "      <th>acc</th>\n",
        "      <th>auc</th>\n",
        "      <th>modalities</th>\n",
        "      <th>y_pred_all</th>\n",
        "      <th>y_true_all</th>\n",
        "    </tr>\n",
        "  </thead>\n",
        "  <tbody>\n",
        "    <tr>\n",
        "      <th>0</th>\n",
        "      <td> 0.684211</td>\n",
        "      <td> 0.680108</td>\n",
        "      <td>    EEG-Stim,EEG-Cue,Pupil</td>\n",
        "      <td> [0.503268801029, 0.505608070248, 0.50498178567...</td>\n",
        "      <td> [0, 0, 1, 1, 1, 1, 1, 1, 1, 0, 1, 1, 1, 1, 1, ...</td>\n",
        "    </tr>\n",
        "    <tr>\n",
        "      <th>1</th>\n",
        "      <td> 0.840426</td>\n",
        "      <td> 0.841053</td>\n",
        "      <td>    EEG-Stim,EEG-Cue,Pupil</td>\n",
        "      <td> [0.746574505499, 0.796929806084, 0.63603640485...</td>\n",
        "      <td> [1, 1, 1, 1, 1, 1, 1, 1, 0, 0, 1, 1, 1, 1, 1, ...</td>\n",
        "    </tr>\n",
        "    <tr>\n",
        "      <th>2</th>\n",
        "      <td> 0.785714</td>\n",
        "      <td> 0.796188</td>\n",
        "      <td>    EEG-Stim,EEG-Cue,Pupil</td>\n",
        "      <td> [0.357624713209, 0.381586128395, 0.33111789325...</td>\n",
        "      <td> [1, 1, 1, 1, 0, 0, 0, 0, 0, 1, 1, 1, 1, 1, 1, ...</td>\n",
        "    </tr>\n",
        "    <tr>\n",
        "      <th>3</th>\n",
        "      <td> 0.761194</td>\n",
        "      <td> 0.781765</td>\n",
        "      <td>    EEG-Stim,EEG-Cue,Pupil</td>\n",
        "      <td> [0.407467704275, 0.722285449722, 0.61677497716...</td>\n",
        "      <td> [1, 1, 1, 1, 0, 0, 0, 1, 1, 1, 1, 1, 1, 0, 1, ...</td>\n",
        "    </tr>\n",
        "    <tr>\n",
        "      <th>4</th>\n",
        "      <td> 0.618182</td>\n",
        "      <td> 0.785714</td>\n",
        "      <td>    EEG-Stim,EEG-Cue,Pupil</td>\n",
        "      <td> [0.506151802496, 0.501435235296, 0.50152674053...</td>\n",
        "      <td> [1, 1, 1, 1, 1, 0, 1, 1, 1, 1, 1, 1, 1, 1, 1, ...</td>\n",
        "    </tr>\n",
        "    <tr>\n",
        "      <th>0</th>\n",
        "      <td> 0.694737</td>\n",
        "      <td> 0.695259</td>\n",
        "      <td> EEG-Stim,EEG-Cue,Pupil,RT</td>\n",
        "      <td> [0.586917029727, 0.678144975386, 0.64161006420...</td>\n",
        "      <td> [0, 0, 1, 1, 1, 1, 1, 1, 1, 0, 1, 1, 1, 1, 1, ...</td>\n",
        "    </tr>\n",
        "    <tr>\n",
        "      <th>1</th>\n",
        "      <td> 0.861702</td>\n",
        "      <td> 0.854386</td>\n",
        "      <td> EEG-Stim,EEG-Cue,Pupil,RT</td>\n",
        "      <td> [0.753321209305, 0.790548530954, 0.62768938347...</td>\n",
        "      <td> [1, 1, 1, 1, 1, 1, 1, 1, 0, 0, 1, 1, 1, 1, 1, ...</td>\n",
        "    </tr>\n",
        "    <tr>\n",
        "      <th>2</th>\n",
        "      <td> 0.761905</td>\n",
        "      <td> 0.780059</td>\n",
        "      <td> EEG-Stim,EEG-Cue,Pupil,RT</td>\n",
        "      <td> [0.359879596221, 0.38253261503, 0.329712865463...</td>\n",
        "      <td> [1, 1, 1, 1, 0, 0, 0, 0, 0, 1, 1, 1, 1, 1, 1, ...</td>\n",
        "    </tr>\n",
        "    <tr>\n",
        "      <th>3</th>\n",
        "      <td> 0.761194</td>\n",
        "      <td> 0.781765</td>\n",
        "      <td> EEG-Stim,EEG-Cue,Pupil,RT</td>\n",
        "      <td> [0.367302375215, 0.895319944721, 0.83034664567...</td>\n",
        "      <td> [1, 1, 1, 1, 0, 0, 0, 1, 1, 1, 1, 1, 1, 0, 1, ...</td>\n",
        "    </tr>\n",
        "    <tr>\n",
        "      <th>4</th>\n",
        "      <td> 0.636364</td>\n",
        "      <td> 0.795918</td>\n",
        "      <td> EEG-Stim,EEG-Cue,Pupil,RT</td>\n",
        "      <td> [0.500795302673, 0.500238656483, 0.50023316354...</td>\n",
        "      <td> [1, 1, 1, 1, 1, 0, 1, 1, 1, 1, 1, 1, 1, 1, 1, ...</td>\n",
        "    </tr>\n",
        "    <tr>\n",
        "      <th>0</th>\n",
        "      <td> 0.705263</td>\n",
        "      <td> 0.689150</td>\n",
        "      <td> EEG-Stim,EEG-Cue,Pupil,HR</td>\n",
        "      <td> [0.585992329611, 0.677800612401, 0.64255433817...</td>\n",
        "      <td> [0, 0, 1, 1, 1, 1, 1, 1, 1, 0, 1, 1, 1, 1, 1, ...</td>\n",
        "    </tr>\n",
        "    <tr>\n",
        "      <th>1</th>\n",
        "      <td> 0.840426</td>\n",
        "      <td> 0.841053</td>\n",
        "      <td> EEG-Stim,EEG-Cue,Pupil,HR</td>\n",
        "      <td> [0.746424496212, 0.793208423857, 0.63322790483...</td>\n",
        "      <td> [1, 1, 1, 1, 1, 1, 1, 1, 0, 0, 1, 1, 1, 1, 1, ...</td>\n",
        "    </tr>\n",
        "    <tr>\n",
        "      <th>2</th>\n",
        "      <td> 0.785714</td>\n",
        "      <td> 0.796188</td>\n",
        "      <td> EEG-Stim,EEG-Cue,Pupil,HR</td>\n",
        "      <td> [0.355910515177, 0.383482183158, 0.33393082683...</td>\n",
        "      <td> [1, 1, 1, 1, 0, 0, 0, 0, 0, 1, 1, 1, 1, 1, 1, ...</td>\n",
        "    </tr>\n",
        "    <tr>\n",
        "      <th>3</th>\n",
        "      <td> 0.805970</td>\n",
        "      <td> 0.811765</td>\n",
        "      <td> EEG-Stim,EEG-Cue,Pupil,HR</td>\n",
        "      <td> [0.400494781195, 0.903878954919, 0.79494472694...</td>\n",
        "      <td> [1, 1, 1, 1, 0, 0, 0, 1, 1, 1, 1, 1, 1, 0, 1, ...</td>\n",
        "    </tr>\n",
        "    <tr>\n",
        "      <th>4</th>\n",
        "      <td> 0.618182</td>\n",
        "      <td> 0.785714</td>\n",
        "      <td> EEG-Stim,EEG-Cue,Pupil,HR</td>\n",
        "      <td> [0.500676095699, 0.500248818269, 0.50018457690...</td>\n",
        "      <td> [1, 1, 1, 1, 1, 0, 1, 1, 1, 1, 1, 1, 1, 1, 1, ...</td>\n",
        "    </tr>\n",
        "    <tr>\n",
        "      <th>0</th>\n",
        "      <td> 0.705263</td>\n",
        "      <td> 0.696237</td>\n",
        "      <td>          EEG-Stim,EEG-Cue</td>\n",
        "      <td> [0.522413167439, 0.539976357731, 0.53718320995...</td>\n",
        "      <td> [0, 0, 1, 1, 1, 1, 1, 1, 1, 0, 1, 1, 1, 1, 1, ...</td>\n",
        "    </tr>\n",
        "    <tr>\n",
        "      <th>1</th>\n",
        "      <td> 0.872340</td>\n",
        "      <td> 0.861053</td>\n",
        "      <td>          EEG-Stim,EEG-Cue</td>\n",
        "      <td> [0.75823577124, 0.823617150416, 0.628343513436...</td>\n",
        "      <td> [1, 1, 1, 1, 1, 1, 1, 1, 0, 0, 1, 1, 1, 1, 1, ...</td>\n",
        "    </tr>\n",
        "    <tr>\n",
        "      <th>2</th>\n",
        "      <td> 0.797619</td>\n",
        "      <td> 0.804252</td>\n",
        "      <td>          EEG-Stim,EEG-Cue</td>\n",
        "      <td> [0.293179762213, 0.376606476639, 0.33432013557...</td>\n",
        "      <td> [1, 1, 1, 1, 0, 0, 0, 0, 0, 1, 1, 1, 1, 1, 1, ...</td>\n",
        "    </tr>\n",
        "    <tr>\n",
        "      <th>3</th>\n",
        "      <td> 0.880597</td>\n",
        "      <td> 0.881176</td>\n",
        "      <td>          EEG-Stim,EEG-Cue</td>\n",
        "      <td> [0.53321125737, 0.740727302294, 0.639201460622...</td>\n",
        "      <td> [1, 1, 1, 1, 0, 0, 0, 1, 1, 1, 1, 1, 1, 0, 1, ...</td>\n",
        "    </tr>\n",
        "    <tr>\n",
        "      <th>4</th>\n",
        "      <td> 0.618182</td>\n",
        "      <td> 0.785714</td>\n",
        "      <td>          EEG-Stim,EEG-Cue</td>\n",
        "      <td> [0.500910750674, 0.500232307009, 0.50044584031...</td>\n",
        "      <td> [1, 1, 1, 1, 1, 0, 1, 1, 1, 1, 1, 1, 1, 1, 1, ...</td>\n",
        "    </tr>\n",
        "    <tr>\n",
        "      <th>0</th>\n",
        "      <td> 0.568421</td>\n",
        "      <td> 0.449658</td>\n",
        "      <td>                     Pupil</td>\n",
        "      <td> [0.522953312187, 0.653693697704, 0.45936325163...</td>\n",
        "      <td> [0, 0, 1, 1, 1, 1, 1, 1, 1, 0, 1, 1, 1, 1, 1, ...</td>\n",
        "    </tr>\n",
        "    <tr>\n",
        "      <th>1</th>\n",
        "      <td> 0.755319</td>\n",
        "      <td> 0.551930</td>\n",
        "      <td>                     Pupil</td>\n",
        "      <td> [0.532792422884, 0.527677632393, 0.54363554781...</td>\n",
        "      <td> [1, 1, 1, 1, 1, 1, 1, 1, 0, 0, 1, 1, 1, 1, 1, ...</td>\n",
        "    </tr>\n",
        "    <tr>\n",
        "      <th>2</th>\n",
        "      <td> 0.726190</td>\n",
        "      <td> 0.667889</td>\n",
        "      <td>                     Pupil</td>\n",
        "      <td> [0.508153444724, 0.505181067421, 0.49921315007...</td>\n",
        "      <td> [1, 1, 1, 1, 0, 0, 0, 0, 0, 1, 1, 1, 1, 1, 1, ...</td>\n",
        "    </tr>\n",
        "    <tr>\n",
        "      <th>3</th>\n",
        "      <td> 0.686567</td>\n",
        "      <td> 0.557059</td>\n",
        "      <td>                     Pupil</td>\n",
        "      <td> [0.494952281342, 0.503624519356, 0.49963538297...</td>\n",
        "      <td> [1, 1, 1, 1, 0, 0, 0, 1, 1, 1, 1, 1, 1, 0, 1, ...</td>\n",
        "    </tr>\n",
        "    <tr>\n",
        "      <th>4</th>\n",
        "      <td> 0.836364</td>\n",
        "      <td> 0.469388</td>\n",
        "      <td>                     Pupil</td>\n",
        "      <td> [0.50039971252, 0.500468333297, 0.500244162864...</td>\n",
        "      <td> [1, 1, 1, 1, 1, 0, 1, 1, 1, 1, 1, 1, 1, 1, 1, ...</td>\n",
        "    </tr>\n",
        "    <tr>\n",
        "      <th>0</th>\n",
        "      <td> 0.684211</td>\n",
        "      <td> 0.665934</td>\n",
        "      <td>                  EEG-Stim</td>\n",
        "      <td> [0.55264364375, 0.635875310617, 0.621398719494...</td>\n",
        "      <td> [0, 0, 1, 1, 1, 1, 1, 1, 1, 0, 1, 1, 1, 1, 1, ...</td>\n",
        "    </tr>\n",
        "    <tr>\n",
        "      <th>1</th>\n",
        "      <td> 0.702128</td>\n",
        "      <td> 0.734737</td>\n",
        "      <td>                  EEG-Stim</td>\n",
        "      <td> [0.500129786063, 0.501060099527, 0.50127441221...</td>\n",
        "      <td> [1, 1, 1, 1, 1, 1, 1, 1, 0, 0, 1, 1, 1, 1, 1, ...</td>\n",
        "    </tr>\n",
        "    <tr>\n",
        "      <th>2</th>\n",
        "      <td> 0.761905</td>\n",
        "      <td> 0.706745</td>\n",
        "      <td>                  EEG-Stim</td>\n",
        "      <td> [0.389055308189, 0.4055941735, 0.370143232642,...</td>\n",
        "      <td> [1, 1, 1, 1, 0, 0, 0, 0, 0, 1, 1, 1, 1, 1, 1, ...</td>\n",
        "    </tr>\n",
        "    <tr>\n",
        "      <th>3</th>\n",
        "      <td> 0.820896</td>\n",
        "      <td> 0.841176</td>\n",
        "      <td>                  EEG-Stim</td>\n",
        "      <td> [0.548025824872, 0.755902917679, 0.67840924899...</td>\n",
        "      <td> [1, 1, 1, 1, 0, 0, 0, 1, 1, 1, 1, 1, 1, 0, 1, ...</td>\n",
        "    </tr>\n",
        "    <tr>\n",
        "      <th>4</th>\n",
        "      <td> 0.763636</td>\n",
        "      <td> 0.867347</td>\n",
        "      <td>                  EEG-Stim</td>\n",
        "      <td> [0.534766673619, 0.519537815412, 0.54255737706...</td>\n",
        "      <td> [1, 1, 1, 1, 1, 0, 1, 1, 1, 1, 1, 1, 1, 1, 1, ...</td>\n",
        "    </tr>\n",
        "    <tr>\n",
        "      <th>0</th>\n",
        "      <td> 0.684211</td>\n",
        "      <td> 0.651760</td>\n",
        "      <td>                   EEG-Cue</td>\n",
        "      <td> [0.516149519508, 0.519357262424, 0.51916979286...</td>\n",
        "      <td> [0, 0, 1, 1, 1, 1, 1, 1, 1, 0, 1, 1, 1, 1, 1, ...</td>\n",
        "    </tr>\n",
        "    <tr>\n",
        "      <th>1</th>\n",
        "      <td> 0.914894</td>\n",
        "      <td> 0.868070</td>\n",
        "      <td>                   EEG-Cue</td>\n",
        "      <td> [0.822593887604, 0.816253316947, 0.60267618065...</td>\n",
        "      <td> [1, 1, 1, 1, 1, 1, 1, 1, 0, 0, 1, 1, 1, 1, 1, ...</td>\n",
        "    </tr>\n",
        "    <tr>\n",
        "      <th>2</th>\n",
        "      <td> 0.738095</td>\n",
        "      <td> 0.690616</td>\n",
        "      <td>                   EEG-Cue</td>\n",
        "      <td> [0.296399912199, 0.453947407649, 0.32628110225...</td>\n",
        "      <td> [1, 1, 1, 1, 0, 0, 0, 0, 0, 1, 1, 1, 1, 1, 1, ...</td>\n",
        "    </tr>\n",
        "    <tr>\n",
        "      <th>3</th>\n",
        "      <td> 0.761194</td>\n",
        "      <td> 0.762353</td>\n",
        "      <td>                   EEG-Cue</td>\n",
        "      <td> [0.547487846822, 0.636639700987, 0.52765826218...</td>\n",
        "      <td> [1, 1, 1, 1, 0, 0, 0, 1, 1, 1, 1, 1, 1, 0, 1, ...</td>\n",
        "    </tr>\n",
        "    <tr>\n",
        "      <th>4</th>\n",
        "      <td> 0.672727</td>\n",
        "      <td> 0.670068</td>\n",
        "      <td>                   EEG-Cue</td>\n",
        "      <td> [0.500744698615, 0.500299629314, 0.50008565694...</td>\n",
        "      <td> [1, 1, 1, 1, 1, 0, 1, 1, 1, 1, 1, 1, 1, 1, 1, ...</td>\n",
        "    </tr>\n",
        "    <tr>\n",
        "      <th>0</th>\n",
        "      <td> 0.621053</td>\n",
        "      <td> 0.475806</td>\n",
        "      <td>                        HR</td>\n",
        "      <td> [0.651329840839, 0.63993504931, 0.640010232666...</td>\n",
        "      <td> [0, 0, 1, 1, 1, 1, 1, 1, 1, 0, 1, 1, 1, 1, 1, ...</td>\n",
        "    </tr>\n",
        "    <tr>\n",
        "      <th>1</th>\n",
        "      <td> 0.797872</td>\n",
        "      <td> 0.500000</td>\n",
        "      <td>                        HR</td>\n",
        "      <td> [0.500635784755, 0.50057541063, 0.500597525696...</td>\n",
        "      <td> [1, 1, 1, 1, 1, 1, 1, 1, 0, 0, 1, 1, 1, 1, 1, ...</td>\n",
        "    </tr>\n",
        "    <tr>\n",
        "      <th>2</th>\n",
        "      <td> 0.738095</td>\n",
        "      <td> 0.500000</td>\n",
        "      <td>                        HR</td>\n",
        "      <td> [0.525188016603, 0.53058596163, 0.532032500865...</td>\n",
        "      <td> [1, 1, 1, 1, 0, 0, 0, 0, 0, 1, 1, 1, 1, 1, 1, ...</td>\n",
        "    </tr>\n",
        "    <tr>\n",
        "      <th>3</th>\n",
        "      <td> 0.761194</td>\n",
        "      <td> 0.529412</td>\n",
        "      <td>                        HR</td>\n",
        "      <td> [0.754711194298, 0.810683260364, 0.61691061519...</td>\n",
        "      <td> [1, 1, 1, 1, 0, 0, 0, 1, 1, 1, 1, 1, 1, 0, 1, ...</td>\n",
        "    </tr>\n",
        "    <tr>\n",
        "      <th>4</th>\n",
        "      <td> 0.890909</td>\n",
        "      <td> 0.500000</td>\n",
        "      <td>                        HR</td>\n",
        "      <td> [0.601510881068, 0.650974089592, 0.63656951628...</td>\n",
        "      <td> [1, 1, 1, 1, 1, 0, 1, 1, 1, 1, 1, 1, 1, 1, 1, ...</td>\n",
        "    </tr>\n",
        "    <tr>\n",
        "      <th>0</th>\n",
        "      <td> 0.652632</td>\n",
        "      <td> 0.500000</td>\n",
        "      <td>                        RT</td>\n",
        "      <td> [0.661012720405, 0.641123355211, 0.63368224804...</td>\n",
        "      <td> [0, 0, 1, 1, 1, 1, 1, 1, 1, 0, 1, 1, 1, 1, 1, ...</td>\n",
        "    </tr>\n",
        "    <tr>\n",
        "      <th>1</th>\n",
        "      <td> 0.797872</td>\n",
        "      <td> 0.500000</td>\n",
        "      <td>                        RT</td>\n",
        "      <td> [0.841212567454, 0.773930767186, 0.79610307387...</td>\n",
        "      <td> [1, 1, 1, 1, 1, 1, 1, 1, 0, 0, 1, 1, 1, 1, 1, ...</td>\n",
        "    </tr>\n",
        "    <tr>\n",
        "      <th>2</th>\n",
        "      <td> 0.738095</td>\n",
        "      <td> 0.514663</td>\n",
        "      <td>                        RT</td>\n",
        "      <td> [0.532218460301, 0.530936619365, 0.52690824740...</td>\n",
        "      <td> [1, 1, 1, 1, 0, 0, 0, 0, 0, 1, 1, 1, 1, 1, 1, ...</td>\n",
        "    </tr>\n",
        "    <tr>\n",
        "      <th>3</th>\n",
        "      <td> 0.746269</td>\n",
        "      <td> 0.500000</td>\n",
        "      <td>                        RT</td>\n",
        "      <td> [0.759645356046, 0.723973566427, 0.73169783881...</td>\n",
        "      <td> [1, 1, 1, 1, 0, 0, 0, 1, 1, 1, 1, 1, 1, 0, 1, ...</td>\n",
        "    </tr>\n",
        "    <tr>\n",
        "      <th>4</th>\n",
        "      <td> 0.890909</td>\n",
        "      <td> 0.500000</td>\n",
        "      <td>                        RT</td>\n",
        "      <td> [0.503521633602, 0.503934871164, 0.50396619368...</td>\n",
        "      <td> [1, 1, 1, 1, 1, 0, 1, 1, 1, 1, 1, 1, 1, 1, 1, ...</td>\n",
        "    </tr>\n",
        "  </tbody>\n",
        "</table>\n",
        "</div>"
       ],
       "metadata": {},
       "output_type": "pyout",
       "prompt_number": 105,
       "text": [
        "        acc       auc                 modalities  \\\n",
        "0  0.684211  0.680108     EEG-Stim,EEG-Cue,Pupil   \n",
        "1  0.840426  0.841053     EEG-Stim,EEG-Cue,Pupil   \n",
        "2  0.785714  0.796188     EEG-Stim,EEG-Cue,Pupil   \n",
        "3  0.761194  0.781765     EEG-Stim,EEG-Cue,Pupil   \n",
        "4  0.618182  0.785714     EEG-Stim,EEG-Cue,Pupil   \n",
        "0  0.694737  0.695259  EEG-Stim,EEG-Cue,Pupil,RT   \n",
        "1  0.861702  0.854386  EEG-Stim,EEG-Cue,Pupil,RT   \n",
        "2  0.761905  0.780059  EEG-Stim,EEG-Cue,Pupil,RT   \n",
        "3  0.761194  0.781765  EEG-Stim,EEG-Cue,Pupil,RT   \n",
        "4  0.636364  0.795918  EEG-Stim,EEG-Cue,Pupil,RT   \n",
        "0  0.705263  0.689150  EEG-Stim,EEG-Cue,Pupil,HR   \n",
        "1  0.840426  0.841053  EEG-Stim,EEG-Cue,Pupil,HR   \n",
        "2  0.785714  0.796188  EEG-Stim,EEG-Cue,Pupil,HR   \n",
        "3  0.805970  0.811765  EEG-Stim,EEG-Cue,Pupil,HR   \n",
        "4  0.618182  0.785714  EEG-Stim,EEG-Cue,Pupil,HR   \n",
        "0  0.705263  0.696237           EEG-Stim,EEG-Cue   \n",
        "1  0.872340  0.861053           EEG-Stim,EEG-Cue   \n",
        "2  0.797619  0.804252           EEG-Stim,EEG-Cue   \n",
        "3  0.880597  0.881176           EEG-Stim,EEG-Cue   \n",
        "4  0.618182  0.785714           EEG-Stim,EEG-Cue   \n",
        "0  0.568421  0.449658                      Pupil   \n",
        "1  0.755319  0.551930                      Pupil   \n",
        "2  0.726190  0.667889                      Pupil   \n",
        "3  0.686567  0.557059                      Pupil   \n",
        "4  0.836364  0.469388                      Pupil   \n",
        "0  0.684211  0.665934                   EEG-Stim   \n",
        "1  0.702128  0.734737                   EEG-Stim   \n",
        "2  0.761905  0.706745                   EEG-Stim   \n",
        "3  0.820896  0.841176                   EEG-Stim   \n",
        "4  0.763636  0.867347                   EEG-Stim   \n",
        "0  0.684211  0.651760                    EEG-Cue   \n",
        "1  0.914894  0.868070                    EEG-Cue   \n",
        "2  0.738095  0.690616                    EEG-Cue   \n",
        "3  0.761194  0.762353                    EEG-Cue   \n",
        "4  0.672727  0.670068                    EEG-Cue   \n",
        "0  0.621053  0.475806                         HR   \n",
        "1  0.797872  0.500000                         HR   \n",
        "2  0.738095  0.500000                         HR   \n",
        "3  0.761194  0.529412                         HR   \n",
        "4  0.890909  0.500000                         HR   \n",
        "0  0.652632  0.500000                         RT   \n",
        "1  0.797872  0.500000                         RT   \n",
        "2  0.738095  0.514663                         RT   \n",
        "3  0.746269  0.500000                         RT   \n",
        "4  0.890909  0.500000                         RT   \n",
        "\n",
        "                                          y_pred_all  \\\n",
        "0  [0.503268801029, 0.505608070248, 0.50498178567...   \n",
        "1  [0.746574505499, 0.796929806084, 0.63603640485...   \n",
        "2  [0.357624713209, 0.381586128395, 0.33111789325...   \n",
        "3  [0.407467704275, 0.722285449722, 0.61677497716...   \n",
        "4  [0.506151802496, 0.501435235296, 0.50152674053...   \n",
        "0  [0.586917029727, 0.678144975386, 0.64161006420...   \n",
        "1  [0.753321209305, 0.790548530954, 0.62768938347...   \n",
        "2  [0.359879596221, 0.38253261503, 0.329712865463...   \n",
        "3  [0.367302375215, 0.895319944721, 0.83034664567...   \n",
        "4  [0.500795302673, 0.500238656483, 0.50023316354...   \n",
        "0  [0.585992329611, 0.677800612401, 0.64255433817...   \n",
        "1  [0.746424496212, 0.793208423857, 0.63322790483...   \n",
        "2  [0.355910515177, 0.383482183158, 0.33393082683...   \n",
        "3  [0.400494781195, 0.903878954919, 0.79494472694...   \n",
        "4  [0.500676095699, 0.500248818269, 0.50018457690...   \n",
        "0  [0.522413167439, 0.539976357731, 0.53718320995...   \n",
        "1  [0.75823577124, 0.823617150416, 0.628343513436...   \n",
        "2  [0.293179762213, 0.376606476639, 0.33432013557...   \n",
        "3  [0.53321125737, 0.740727302294, 0.639201460622...   \n",
        "4  [0.500910750674, 0.500232307009, 0.50044584031...   \n",
        "0  [0.522953312187, 0.653693697704, 0.45936325163...   \n",
        "1  [0.532792422884, 0.527677632393, 0.54363554781...   \n",
        "2  [0.508153444724, 0.505181067421, 0.49921315007...   \n",
        "3  [0.494952281342, 0.503624519356, 0.49963538297...   \n",
        "4  [0.50039971252, 0.500468333297, 0.500244162864...   \n",
        "0  [0.55264364375, 0.635875310617, 0.621398719494...   \n",
        "1  [0.500129786063, 0.501060099527, 0.50127441221...   \n",
        "2  [0.389055308189, 0.4055941735, 0.370143232642,...   \n",
        "3  [0.548025824872, 0.755902917679, 0.67840924899...   \n",
        "4  [0.534766673619, 0.519537815412, 0.54255737706...   \n",
        "0  [0.516149519508, 0.519357262424, 0.51916979286...   \n",
        "1  [0.822593887604, 0.816253316947, 0.60267618065...   \n",
        "2  [0.296399912199, 0.453947407649, 0.32628110225...   \n",
        "3  [0.547487846822, 0.636639700987, 0.52765826218...   \n",
        "4  [0.500744698615, 0.500299629314, 0.50008565694...   \n",
        "0  [0.651329840839, 0.63993504931, 0.640010232666...   \n",
        "1  [0.500635784755, 0.50057541063, 0.500597525696...   \n",
        "2  [0.525188016603, 0.53058596163, 0.532032500865...   \n",
        "3  [0.754711194298, 0.810683260364, 0.61691061519...   \n",
        "4  [0.601510881068, 0.650974089592, 0.63656951628...   \n",
        "0  [0.661012720405, 0.641123355211, 0.63368224804...   \n",
        "1  [0.841212567454, 0.773930767186, 0.79610307387...   \n",
        "2  [0.532218460301, 0.530936619365, 0.52690824740...   \n",
        "3  [0.759645356046, 0.723973566427, 0.73169783881...   \n",
        "4  [0.503521633602, 0.503934871164, 0.50396619368...   \n",
        "\n",
        "                                          y_true_all  \n",
        "0  [0, 0, 1, 1, 1, 1, 1, 1, 1, 0, 1, 1, 1, 1, 1, ...  \n",
        "1  [1, 1, 1, 1, 1, 1, 1, 1, 0, 0, 1, 1, 1, 1, 1, ...  \n",
        "2  [1, 1, 1, 1, 0, 0, 0, 0, 0, 1, 1, 1, 1, 1, 1, ...  \n",
        "3  [1, 1, 1, 1, 0, 0, 0, 1, 1, 1, 1, 1, 1, 0, 1, ...  \n",
        "4  [1, 1, 1, 1, 1, 0, 1, 1, 1, 1, 1, 1, 1, 1, 1, ...  \n",
        "0  [0, 0, 1, 1, 1, 1, 1, 1, 1, 0, 1, 1, 1, 1, 1, ...  \n",
        "1  [1, 1, 1, 1, 1, 1, 1, 1, 0, 0, 1, 1, 1, 1, 1, ...  \n",
        "2  [1, 1, 1, 1, 0, 0, 0, 0, 0, 1, 1, 1, 1, 1, 1, ...  \n",
        "3  [1, 1, 1, 1, 0, 0, 0, 1, 1, 1, 1, 1, 1, 0, 1, ...  \n",
        "4  [1, 1, 1, 1, 1, 0, 1, 1, 1, 1, 1, 1, 1, 1, 1, ...  \n",
        "0  [0, 0, 1, 1, 1, 1, 1, 1, 1, 0, 1, 1, 1, 1, 1, ...  \n",
        "1  [1, 1, 1, 1, 1, 1, 1, 1, 0, 0, 1, 1, 1, 1, 1, ...  \n",
        "2  [1, 1, 1, 1, 0, 0, 0, 0, 0, 1, 1, 1, 1, 1, 1, ...  \n",
        "3  [1, 1, 1, 1, 0, 0, 0, 1, 1, 1, 1, 1, 1, 0, 1, ...  \n",
        "4  [1, 1, 1, 1, 1, 0, 1, 1, 1, 1, 1, 1, 1, 1, 1, ...  \n",
        "0  [0, 0, 1, 1, 1, 1, 1, 1, 1, 0, 1, 1, 1, 1, 1, ...  \n",
        "1  [1, 1, 1, 1, 1, 1, 1, 1, 0, 0, 1, 1, 1, 1, 1, ...  \n",
        "2  [1, 1, 1, 1, 0, 0, 0, 0, 0, 1, 1, 1, 1, 1, 1, ...  \n",
        "3  [1, 1, 1, 1, 0, 0, 0, 1, 1, 1, 1, 1, 1, 0, 1, ...  \n",
        "4  [1, 1, 1, 1, 1, 0, 1, 1, 1, 1, 1, 1, 1, 1, 1, ...  \n",
        "0  [0, 0, 1, 1, 1, 1, 1, 1, 1, 0, 1, 1, 1, 1, 1, ...  \n",
        "1  [1, 1, 1, 1, 1, 1, 1, 1, 0, 0, 1, 1, 1, 1, 1, ...  \n",
        "2  [1, 1, 1, 1, 0, 0, 0, 0, 0, 1, 1, 1, 1, 1, 1, ...  \n",
        "3  [1, 1, 1, 1, 0, 0, 0, 1, 1, 1, 1, 1, 1, 0, 1, ...  \n",
        "4  [1, 1, 1, 1, 1, 0, 1, 1, 1, 1, 1, 1, 1, 1, 1, ...  \n",
        "0  [0, 0, 1, 1, 1, 1, 1, 1, 1, 0, 1, 1, 1, 1, 1, ...  \n",
        "1  [1, 1, 1, 1, 1, 1, 1, 1, 0, 0, 1, 1, 1, 1, 1, ...  \n",
        "2  [1, 1, 1, 1, 0, 0, 0, 0, 0, 1, 1, 1, 1, 1, 1, ...  \n",
        "3  [1, 1, 1, 1, 0, 0, 0, 1, 1, 1, 1, 1, 1, 0, 1, ...  \n",
        "4  [1, 1, 1, 1, 1, 0, 1, 1, 1, 1, 1, 1, 1, 1, 1, ...  \n",
        "0  [0, 0, 1, 1, 1, 1, 1, 1, 1, 0, 1, 1, 1, 1, 1, ...  \n",
        "1  [1, 1, 1, 1, 1, 1, 1, 1, 0, 0, 1, 1, 1, 1, 1, ...  \n",
        "2  [1, 1, 1, 1, 0, 0, 0, 0, 0, 1, 1, 1, 1, 1, 1, ...  \n",
        "3  [1, 1, 1, 1, 0, 0, 0, 1, 1, 1, 1, 1, 1, 0, 1, ...  \n",
        "4  [1, 1, 1, 1, 1, 0, 1, 1, 1, 1, 1, 1, 1, 1, 1, ...  \n",
        "0  [0, 0, 1, 1, 1, 1, 1, 1, 1, 0, 1, 1, 1, 1, 1, ...  \n",
        "1  [1, 1, 1, 1, 1, 1, 1, 1, 0, 0, 1, 1, 1, 1, 1, ...  \n",
        "2  [1, 1, 1, 1, 0, 0, 0, 0, 0, 1, 1, 1, 1, 1, 1, ...  \n",
        "3  [1, 1, 1, 1, 0, 0, 0, 1, 1, 1, 1, 1, 1, 0, 1, ...  \n",
        "4  [1, 1, 1, 1, 1, 0, 1, 1, 1, 1, 1, 1, 1, 1, 1, ...  \n",
        "0  [0, 0, 1, 1, 1, 1, 1, 1, 1, 0, 1, 1, 1, 1, 1, ...  \n",
        "1  [1, 1, 1, 1, 1, 1, 1, 1, 0, 0, 1, 1, 1, 1, 1, ...  \n",
        "2  [1, 1, 1, 1, 0, 0, 0, 0, 0, 1, 1, 1, 1, 1, 1, ...  \n",
        "3  [1, 1, 1, 1, 0, 0, 0, 1, 1, 1, 1, 1, 1, 0, 1, ...  \n",
        "4  [1, 1, 1, 1, 1, 0, 1, 1, 1, 1, 1, 1, 1, 1, 1, ...  "
       ]
      }
     ],
     "prompt_number": 105
    },
    {
     "cell_type": "code",
     "collapsed": false,
     "input": [
      "x_split_space"
     ],
     "language": "python",
     "metadata": {},
     "outputs": [
      {
       "metadata": {},
       "output_type": "pyout",
       "prompt_number": 91,
       "text": [
        "['[ 0.50352163  0.50393487  0.50396619  0.50363513  0.50358397  0.50373751\\n  0.86143448  0.80130439  0.87556911  0.88263866  0.89051899  0.83448105\\n  0.82072149  0.82601311  0.79529018  0.93881393  0.93923503  0.90324912\\n  0.84500697  0.82358073  0.80064781  0.93275038  0.91592042  0.89306655\\n  0.87266027  0.84216586  0.91654569  0.92146791  0.87728736  0.85896916\\n  0.89298674  0.91623919  0.91696246  0.87999584  0.90686675  0.50050427\\n  0.50047348  0.50053746  0.50051948  0.50048633  0.79377563  0.95106045\\n  0.95790178  0.88592712  0.9475561   0.50051925  0.5004469   0.50051213\\n  0.5004546   0.50049509  0.86085028  0.90760664  0.83985464  0.86070186\\n  0.80773145]']"
       ]
      }
     ],
     "prompt_number": 91
    },
    {
     "cell_type": "code",
     "collapsed": false,
     "input": [
      "x_split_space[0]"
     ],
     "language": "python",
     "metadata": {},
     "outputs": [
      {
       "metadata": {},
       "output_type": "pyout",
       "prompt_number": 93,
       "text": [
        "'[ 0.50352163  0.50393487  0.50396619  0.50363513  0.50358397  0.50373751\\n  0.86143448  0.80130439  0.87556911  0.88263866  0.89051899  0.83448105\\n  0.82072149  0.82601311  0.79529018  0.93881393  0.93923503  0.90324912\\n  0.84500697  0.82358073  0.80064781  0.93275038  0.91592042  0.89306655\\n  0.87266027  0.84216586  0.91654569  0.92146791  0.87728736  0.85896916\\n  0.89298674  0.91623919  0.91696246  0.87999584  0.90686675  0.50050427\\n  0.50047348  0.50053746  0.50051948  0.50048633  0.79377563  0.95106045\\n  0.95790178  0.88592712  0.9475561   0.50051925  0.5004469   0.50051213\\n  0.5004546   0.50049509  0.86085028  0.90760664  0.83985464  0.86070186\\n  0.80773145]'"
       ]
      }
     ],
     "prompt_number": 93
    },
    {
     "cell_type": "code",
     "collapsed": false,
     "input": [
      "x"
     ],
     "language": "python",
     "metadata": {},
     "outputs": [
      {
       "metadata": {},
       "output_type": "pyout",
       "prompt_number": 94,
       "text": [
        "'[ 0.50352163  0.50393487  0.50396619  0.50363513  0.50358397  0.50373751\\n  0.86143448  0.80130439  0.87556911  0.88263866  0.89051899  0.83448105\\n  0.82072149  0.82601311  0.79529018  0.93881393  0.93923503  0.90324912\\n  0.84500697  0.82358073  0.80064781  0.93275038  0.91592042  0.89306655\\n  0.87266027  0.84216586  0.91654569  0.92146791  0.87728736  0.85896916\\n  0.89298674  0.91623919  0.91696246  0.87999584  0.90686675  0.50050427\\n  0.50047348  0.50053746  0.50051948  0.50048633  0.79377563  0.95106045\\n  0.95790178  0.88592712  0.9475561   0.50051925  0.5004469   0.50051213\\n  0.5004546   0.50049509  0.86085028  0.90760664  0.83985464  0.86070186\\n  0.80773145]'"
       ]
      }
     ],
     "prompt_number": 94
    },
    {
     "cell_type": "code",
     "collapsed": false,
     "input": [
      "x[0]"
     ],
     "language": "python",
     "metadata": {},
     "outputs": [
      {
       "metadata": {},
       "output_type": "pyout",
       "prompt_number": 95,
       "text": [
        "'['"
       ]
      }
     ],
     "prompt_number": 95
    },
    {
     "cell_type": "code",
     "collapsed": false,
     "input": [
      "x[1]"
     ],
     "language": "python",
     "metadata": {},
     "outputs": [
      {
       "metadata": {},
       "output_type": "pyout",
       "prompt_number": 96,
       "text": [
        "' '"
       ]
      }
     ],
     "prompt_number": 96
    },
    {
     "cell_type": "code",
     "collapsed": false,
     "input": [
      "x[2]"
     ],
     "language": "python",
     "metadata": {},
     "outputs": [
      {
       "metadata": {},
       "output_type": "pyout",
       "prompt_number": 97,
       "text": [
        "'0'"
       ]
      }
     ],
     "prompt_number": 97
    },
    {
     "cell_type": "code",
     "collapsed": false,
     "input": [
      "x2 = x"
     ],
     "language": "python",
     "metadata": {},
     "outputs": [],
     "prompt_number": 99
    },
    {
     "cell_type": "code",
     "collapsed": false,
     "input": [
      "x2"
     ],
     "language": "python",
     "metadata": {},
     "outputs": [
      {
       "metadata": {},
       "output_type": "pyout",
       "prompt_number": 100,
       "text": [
        "'[ 0.50352163  0.50393487  0.50396619  0.50363513  0.50358397  0.50373751\\n  0.86143448  0.80130439  0.87556911  0.88263866  0.89051899  0.83448105\\n  0.82072149  0.82601311  0.79529018  0.93881393  0.93923503  0.90324912\\n  0.84500697  0.82358073  0.80064781  0.93275038  0.91592042  0.89306655\\n  0.87266027  0.84216586  0.91654569  0.92146791  0.87728736  0.85896916\\n  0.89298674  0.91623919  0.91696246  0.87999584  0.90686675  0.50050427\\n  0.50047348  0.50053746  0.50051948  0.50048633  0.79377563  0.95106045\\n  0.95790178  0.88592712  0.9475561   0.50051925  0.5004469   0.50051213\\n  0.5004546   0.50049509  0.86085028  0.90760664  0.83985464  0.86070186\\n  0.80773145]'"
       ]
      }
     ],
     "prompt_number": 100
    },
    {
     "cell_type": "code",
     "collapsed": false,
     "input": [
      "x2[0] = []; x2[1] = []; x[end] = []"
     ],
     "language": "python",
     "metadata": {},
     "outputs": [
      {
       "ename": "TypeError",
       "evalue": "'str' object does not support item assignment",
       "output_type": "pyerr",
       "traceback": [
        "\u001b[0;31m---------------------------------------------------------------------------\u001b[0m\n\u001b[0;31mTypeError\u001b[0m                                 Traceback (most recent call last)",
        "\u001b[0;32m<ipython-input-101-c9c9cdbd6f91>\u001b[0m in \u001b[0;36m<module>\u001b[0;34m()\u001b[0m\n\u001b[0;32m----> 1\u001b[0;31m \u001b[0mx2\u001b[0m\u001b[0;34m[\u001b[0m\u001b[0;36m0\u001b[0m\u001b[0;34m]\u001b[0m \u001b[0;34m=\u001b[0m \u001b[0;34m[\u001b[0m\u001b[0;34m]\u001b[0m\u001b[0;34m;\u001b[0m \u001b[0mx2\u001b[0m\u001b[0;34m[\u001b[0m\u001b[0;36m1\u001b[0m\u001b[0;34m]\u001b[0m \u001b[0;34m=\u001b[0m \u001b[0;34m[\u001b[0m\u001b[0;34m]\u001b[0m\u001b[0;34m;\u001b[0m \u001b[0mx\u001b[0m\u001b[0;34m[\u001b[0m\u001b[0mend\u001b[0m\u001b[0;34m]\u001b[0m \u001b[0;34m=\u001b[0m \u001b[0;34m[\u001b[0m\u001b[0;34m]\u001b[0m\u001b[0;34m\u001b[0m\u001b[0m\n\u001b[0m",
        "\u001b[0;31mTypeError\u001b[0m: 'str' object does not support item assignment"
       ]
      }
     ],
     "prompt_number": 101
    },
    {
     "cell_type": "code",
     "collapsed": false,
     "input": [
      "x2.pop()"
     ],
     "language": "python",
     "metadata": {},
     "outputs": [
      {
       "ename": "AttributeError",
       "evalue": "'str' object has no attribute 'pop'",
       "output_type": "pyerr",
       "traceback": [
        "\u001b[0;31m---------------------------------------------------------------------------\u001b[0m\n\u001b[0;31mAttributeError\u001b[0m                            Traceback (most recent call last)",
        "\u001b[0;32m<ipython-input-102-9a8e9b898bbe>\u001b[0m in \u001b[0;36m<module>\u001b[0;34m()\u001b[0m\n\u001b[0;32m----> 1\u001b[0;31m \u001b[0mx2\u001b[0m\u001b[0;34m.\u001b[0m\u001b[0mpop\u001b[0m\u001b[0;34m(\u001b[0m\u001b[0;34m)\u001b[0m\u001b[0;34m\u001b[0m\u001b[0m\n\u001b[0m",
        "\u001b[0;31mAttributeError\u001b[0m: 'str' object has no attribute 'pop'"
       ]
      }
     ],
     "prompt_number": 102
    },
    {
     "cell_type": "code",
     "collapsed": false,
     "input": [],
     "language": "python",
     "metadata": {},
     "outputs": []
    }
   ],
   "metadata": {}
  }
 ]
}