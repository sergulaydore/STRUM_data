{
 "metadata": {
  "name": "",
  "signature": "sha256:a6b9a5c0eae772cdb806d7cb58eac28fc3f2d4daf041f6494a1b4bc0dfc67e70"
 },
 "nbformat": 3,
 "nbformat_minor": 0,
 "worksheets": [
  {
   "cells": [
    {
     "cell_type": "code",
     "collapsed": false,
     "input": [
      "import pandas as pd"
     ],
     "language": "python",
     "metadata": {},
     "outputs": [],
     "prompt_number": 1
    },
    {
     "cell_type": "code",
     "collapsed": false,
     "input": [
      "data = pd.read_csv('strum_etas.csv', nrows = 395)"
     ],
     "language": "python",
     "metadata": {},
     "outputs": [],
     "prompt_number": 2
    },
    {
     "cell_type": "code",
     "collapsed": false,
     "input": [
      "data.head()"
     ],
     "language": "python",
     "metadata": {},
     "outputs": [
      {
       "html": [
        "<div style=\"max-height:1000px;max-width:1500px;overflow:auto;\">\n",
        "<table border=\"1\" class=\"dataframe\">\n",
        "  <thead>\n",
        "    <tr style=\"text-align: right;\">\n",
        "      <th></th>\n",
        "      <th>Subject</th>\n",
        "      <th>Label</th>\n",
        "      <th>EEG-Stim</th>\n",
        "      <th>EEG-Stim.1</th>\n",
        "      <th>EEG-Stim.2</th>\n",
        "      <th>EEG-Stim.3</th>\n",
        "      <th>EEG-Stim.4</th>\n",
        "      <th>EEG-Stim.5</th>\n",
        "      <th>EEG-Stim.6</th>\n",
        "      <th>EEG-Stim.7</th>\n",
        "      <th>...</th>\n",
        "      <th>EEG-Cue.28</th>\n",
        "      <th>Pupil</th>\n",
        "      <th>Pupil.1</th>\n",
        "      <th>Pupil.2</th>\n",
        "      <th>Pupil.3</th>\n",
        "      <th>Pupil.4</th>\n",
        "      <th>Pupil.5</th>\n",
        "      <th>Pupil.6</th>\n",
        "      <th>HR</th>\n",
        "      <th>RT</th>\n",
        "    </tr>\n",
        "  </thead>\n",
        "  <tbody>\n",
        "    <tr>\n",
        "      <th>0</th>\n",
        "      <td> Experiment 814 Participant 1</td>\n",
        "      <td> 1</td>\n",
        "      <td> 0.283395</td>\n",
        "      <td> 0.344372</td>\n",
        "      <td>-0.040952</td>\n",
        "      <td> 0.291203</td>\n",
        "      <td> 1.565721</td>\n",
        "      <td>-0.391505</td>\n",
        "      <td> 1.162737</td>\n",
        "      <td>-0.249084</td>\n",
        "      <td>...</td>\n",
        "      <td> 1.191749</td>\n",
        "      <td>-0.394676</td>\n",
        "      <td> 0.640289</td>\n",
        "      <td> 0.900252</td>\n",
        "      <td> 0.845796</td>\n",
        "      <td> 0.003208</td>\n",
        "      <td>-1.937860</td>\n",
        "      <td>-0.293665</td>\n",
        "      <td>-0.936044</td>\n",
        "      <td> 0.980244</td>\n",
        "    </tr>\n",
        "    <tr>\n",
        "      <th>1</th>\n",
        "      <td> Experiment 814 Participant 1</td>\n",
        "      <td> 1</td>\n",
        "      <td>-1.099535</td>\n",
        "      <td> 0.279036</td>\n",
        "      <td> 0.444934</td>\n",
        "      <td> 1.516821</td>\n",
        "      <td>-0.719237</td>\n",
        "      <td> 1.092656</td>\n",
        "      <td>-0.878134</td>\n",
        "      <td> 0.744535</td>\n",
        "      <td>...</td>\n",
        "      <td>-0.490581</td>\n",
        "      <td>-0.226522</td>\n",
        "      <td> 0.203983</td>\n",
        "      <td>-0.975082</td>\n",
        "      <td>-1.220389</td>\n",
        "      <td>-0.285274</td>\n",
        "      <td>-1.252320</td>\n",
        "      <td>-0.948624</td>\n",
        "      <td>-1.739984</td>\n",
        "      <td> 1.045178</td>\n",
        "    </tr>\n",
        "    <tr>\n",
        "      <th>2</th>\n",
        "      <td> Experiment 814 Participant 1</td>\n",
        "      <td> 1</td>\n",
        "      <td>-1.254568</td>\n",
        "      <td>-1.785215</td>\n",
        "      <td> 1.867218</td>\n",
        "      <td> 0.896976</td>\n",
        "      <td>-1.574138</td>\n",
        "      <td> 0.184564</td>\n",
        "      <td> 1.232867</td>\n",
        "      <td> 0.527496</td>\n",
        "      <td>...</td>\n",
        "      <td> 1.191749</td>\n",
        "      <td> 2.441639</td>\n",
        "      <td> 0.619945</td>\n",
        "      <td> 0.975656</td>\n",
        "      <td> 1.945333</td>\n",
        "      <td> 2.001038</td>\n",
        "      <td> 2.527086</td>\n",
        "      <td> 1.993611</td>\n",
        "      <td>-0.954548</td>\n",
        "      <td> 2.381598</td>\n",
        "    </tr>\n",
        "    <tr>\n",
        "      <th>3</th>\n",
        "      <td> Experiment 814 Participant 1</td>\n",
        "      <td> 1</td>\n",
        "      <td> 1.080259</td>\n",
        "      <td> 0.550390</td>\n",
        "      <td>-0.400283</td>\n",
        "      <td> 0.418176</td>\n",
        "      <td> 1.919845</td>\n",
        "      <td> 2.818703</td>\n",
        "      <td> 1.053971</td>\n",
        "      <td> 1.646364</td>\n",
        "      <td>...</td>\n",
        "      <td> 1.191749</td>\n",
        "      <td> 0.610920</td>\n",
        "      <td>-0.053411</td>\n",
        "      <td> 0.131995</td>\n",
        "      <td>-1.211616</td>\n",
        "      <td>-1.290166</td>\n",
        "      <td>-2.161529</td>\n",
        "      <td> 0.008613</td>\n",
        "      <td>-0.976702</td>\n",
        "      <td>-0.513637</td>\n",
        "    </tr>\n",
        "    <tr>\n",
        "      <th>4</th>\n",
        "      <td> Experiment 814 Participant 1</td>\n",
        "      <td> 1</td>\n",
        "      <td> 0.783139</td>\n",
        "      <td> 0.409421</td>\n",
        "      <td>-0.508846</td>\n",
        "      <td>-0.046585</td>\n",
        "      <td> 0.059981</td>\n",
        "      <td> 0.618200</td>\n",
        "      <td> 0.444273</td>\n",
        "      <td>-0.592437</td>\n",
        "      <td>...</td>\n",
        "      <td> 1.191749</td>\n",
        "      <td>-0.772491</td>\n",
        "      <td>-0.132604</td>\n",
        "      <td>-0.580858</td>\n",
        "      <td>-3.267798</td>\n",
        "      <td>-1.897679</td>\n",
        "      <td>-1.162399</td>\n",
        "      <td>-1.532061</td>\n",
        "      <td> 0.207982</td>\n",
        "      <td> 0.963707</td>\n",
        "    </tr>\n",
        "  </tbody>\n",
        "</table>\n",
        "<p>5 rows \u00d7 69 columns</p>\n",
        "</div>"
       ],
       "metadata": {},
       "output_type": "pyout",
       "prompt_number": 3,
       "text": [
        "                        Subject  Label  EEG-Stim  EEG-Stim.1  EEG-Stim.2  \\\n",
        "0  Experiment 814 Participant 1      1  0.283395    0.344372   -0.040952   \n",
        "1  Experiment 814 Participant 1      1 -1.099535    0.279036    0.444934   \n",
        "2  Experiment 814 Participant 1      1 -1.254568   -1.785215    1.867218   \n",
        "3  Experiment 814 Participant 1      1  1.080259    0.550390   -0.400283   \n",
        "4  Experiment 814 Participant 1      1  0.783139    0.409421   -0.508846   \n",
        "\n",
        "   EEG-Stim.3  EEG-Stim.4  EEG-Stim.5  EEG-Stim.6  EEG-Stim.7    ...     \\\n",
        "0    0.291203    1.565721   -0.391505    1.162737   -0.249084    ...      \n",
        "1    1.516821   -0.719237    1.092656   -0.878134    0.744535    ...      \n",
        "2    0.896976   -1.574138    0.184564    1.232867    0.527496    ...      \n",
        "3    0.418176    1.919845    2.818703    1.053971    1.646364    ...      \n",
        "4   -0.046585    0.059981    0.618200    0.444273   -0.592437    ...      \n",
        "\n",
        "   EEG-Cue.28     Pupil   Pupil.1   Pupil.2   Pupil.3   Pupil.4   Pupil.5  \\\n",
        "0    1.191749 -0.394676  0.640289  0.900252  0.845796  0.003208 -1.937860   \n",
        "1   -0.490581 -0.226522  0.203983 -0.975082 -1.220389 -0.285274 -1.252320   \n",
        "2    1.191749  2.441639  0.619945  0.975656  1.945333  2.001038  2.527086   \n",
        "3    1.191749  0.610920 -0.053411  0.131995 -1.211616 -1.290166 -2.161529   \n",
        "4    1.191749 -0.772491 -0.132604 -0.580858 -3.267798 -1.897679 -1.162399   \n",
        "\n",
        "    Pupil.6        HR        RT  \n",
        "0 -0.293665 -0.936044  0.980244  \n",
        "1 -0.948624 -1.739984  1.045178  \n",
        "2  1.993611 -0.954548  2.381598  \n",
        "3  0.008613 -0.976702 -0.513637  \n",
        "4 -1.532061  0.207982  0.963707  \n",
        "\n",
        "[5 rows x 69 columns]"
       ]
      }
     ],
     "prompt_number": 3
    },
    {
     "cell_type": "code",
     "collapsed": false,
     "input": [
      "data.columns"
     ],
     "language": "python",
     "metadata": {},
     "outputs": [
      {
       "metadata": {},
       "output_type": "pyout",
       "prompt_number": 4,
       "text": [
        "Index([u'Subject', u'Label', u'EEG-Stim', u'EEG-Stim.1', u'EEG-Stim.2', u'EEG-Stim.3', u'EEG-Stim.4', u'EEG-Stim.5', u'EEG-Stim.6', u'EEG-Stim.7', u'EEG-Stim.8', u'EEG-Stim.9', u'EEG-Stim.10', u'EEG-Stim.11', u'EEG-Stim.12', u'EEG-Stim.13', u'EEG-Stim.14', u'EEG-Stim.15', u'EEG-Stim.16', u'EEG-Stim.17', u'EEG-Stim.18', u'EEG-Stim.19', u'EEG-Stim.20', u'EEG-Stim.21', u'EEG-Stim.22', u'EEG-Stim.23', u'EEG-Stim.24', u'EEG-Stim.25', u'EEG-Stim.26', u'EEG-Stim.27', u'EEG-Stim.28', u'EEG-Cue', u'EEG-Cue.1', u'EEG-Cue.2', u'EEG-Cue.3', u'EEG-Cue.4', u'EEG-Cue.5', u'EEG-Cue.6', u'EEG-Cue.7', u'EEG-Cue.8', u'EEG-Cue.9', u'EEG-Cue.10', u'EEG-Cue.11', u'EEG-Cue.12', u'EEG-Cue.13', u'EEG-Cue.14', u'EEG-Cue.15', u'EEG-Cue.16', u'EEG-Cue.17', u'EEG-Cue.18', u'EEG-Cue.19', u'EEG-Cue.20', u'EEG-Cue.21', u'EEG-Cue.22', u'EEG-Cue.23', u'EEG-Cue.24', u'EEG-Cue.25', u'EEG-Cue.26', u'EEG-Cue.27', u'EEG-Cue.28', u'Pupil', u'Pupil.1', u'Pupil.2', u'Pupil.3', u'Pupil.4', u'Pupil.5', u'Pupil.6', u'HR', u'RT'], dtype='object')"
       ]
      }
     ],
     "prompt_number": 4
    },
    {
     "cell_type": "code",
     "collapsed": false,
     "input": [
      "data_single = data[data['Subject'] == 'Experiment 766 Participant 0' ]\n"
     ],
     "language": "python",
     "metadata": {},
     "outputs": [],
     "prompt_number": 55
    },
    {
     "cell_type": "code",
     "collapsed": false,
     "input": [
      "y = data['Label'].values\n",
      "X = data.ix[:,2:].values"
     ],
     "language": "python",
     "metadata": {},
     "outputs": [],
     "prompt_number": 208
    },
    {
     "cell_type": "code",
     "collapsed": false,
     "input": [
      "X"
     ],
     "language": "python",
     "metadata": {},
     "outputs": [
      {
       "metadata": {},
       "output_type": "pyout",
       "prompt_number": 209,
       "text": [
        "array([[ 0.74644423,  0.48532451,  0.82912501, ..., -0.29366485,\n",
        "        -0.9360438 ,  0.98024442],\n",
        "       [-0.23976874,  1.45929958,  2.19944337, ..., -0.94862407,\n",
        "        -1.73998426,  1.04517791],\n",
        "       [-1.19565974, -0.33090087,  0.78397453, ...,  1.99361142,\n",
        "        -0.95454797,  2.38159759],\n",
        "       ..., \n",
        "       [ 0.20400321, -0.2658905 , -0.15038546, ..., -0.98755503,\n",
        "        -0.49655684, -0.03674093],\n",
        "       [ 0.14761711, -0.19447233,  0.45455472, ..., -0.70443549,\n",
        "        -0.2709199 , -0.17475048],\n",
        "       [ 2.24844788,  4.23336826, -3.74999533, ..., -0.38170615,\n",
        "         0.79473706,  0.45662608]])"
       ]
      }
     ],
     "prompt_number": 209
    },
    {
     "cell_type": "code",
     "collapsed": false,
     "input": [
      "X.shape"
     ],
     "language": "python",
     "metadata": {},
     "outputs": [
      {
       "metadata": {},
       "output_type": "pyout",
       "prompt_number": 58,
       "text": [
        "(95, 67)"
       ]
      }
     ],
     "prompt_number": 58
    },
    {
     "cell_type": "code",
     "collapsed": false,
     "input": [
      "import numpy as np\n",
      "from sklearn import datasets, linear_model, cross_validation, grid_search\n",
      "lr = linear_model.LogisticRegression()\n",
      "c_range = np.logspace(0, 4, 100)\n",
      "lrgs = grid_search.GridSearchCV(estimator=lr, param_grid=dict(C=c_range,penalty=['l1','l2']), n_jobs=1)\n",
      "kf_total = cross_validation.KFold(len(X), n_folds=10, indices=True, shuffle=True, random_state=4)"
     ],
     "language": "python",
     "metadata": {},
     "outputs": [
      {
       "output_type": "stream",
       "stream": "stderr",
       "text": [
        "/Users/sergulaydore/anaconda/lib/python2.7/site-packages/sklearn/cross_validation.py:65: DeprecationWarning: The indices parameter is deprecated and will be removed (assumed True) in 0.17\n",
        "  stacklevel=1)\n"
       ]
      }
     ],
     "prompt_number": 123
    },
    {
     "cell_type": "code",
     "collapsed": false,
     "input": [
      "acc_per_fold = [lrgs.fit(X[train],y[train]).score(X[test],y[test]) for train, test in kf_total]"
     ],
     "language": "python",
     "metadata": {},
     "outputs": [],
     "prompt_number": 124
    },
    {
     "cell_type": "code",
     "collapsed": false,
     "input": [
      "np.mean(acc_per_fold)"
     ],
     "language": "python",
     "metadata": {},
     "outputs": [
      {
       "metadata": {},
       "output_type": "pyout",
       "prompt_number": 125,
       "text": [
        "0.73222222222222233"
       ]
      }
     ],
     "prompt_number": 125
    },
    {
     "cell_type": "code",
     "collapsed": false,
     "input": [
      "lrgs.best_params_"
     ],
     "language": "python",
     "metadata": {},
     "outputs": [
      {
       "metadata": {},
       "output_type": "pyout",
       "prompt_number": 126,
       "text": [
        "{'C': 7564.6332755462909, 'penalty': 'l1'}"
       ]
      }
     ],
     "prompt_number": 126
    },
    {
     "cell_type": "code",
     "collapsed": false,
     "input": [
      "c_range"
     ],
     "language": "python",
     "metadata": {},
     "outputs": [
      {
       "metadata": {},
       "output_type": "pyout",
       "prompt_number": 28,
       "text": [
        "array([  1.00000000e+00,   2.78255940e+00,   7.74263683e+00,\n",
        "         2.15443469e+01,   5.99484250e+01,   1.66810054e+02,\n",
        "         4.64158883e+02,   1.29154967e+03,   3.59381366e+03,\n",
        "         1.00000000e+04])"
       ]
      }
     ],
     "prompt_number": 28
    },
    {
     "cell_type": "code",
     "collapsed": false,
     "input": [
      "kf_total = cross_validation.KFold(len(X), n_folds=10, indices=True, shuffle=True, random_state=4)\n",
      "log_elastic_net = linear_model.SGDClassifier(loss='log')\n",
      "l1_range = np.linspace(0, 1, 20)\n",
      "alpha_range = [0.0001 , 0.001, 0.01, 0.1, 1]\n",
      "lrgs = grid_search.GridSearchCV(estimator=log_elastic_net, param_grid=dict( alpha = alpha_range,\n",
      "                                                                           l1_ratio = l1_range), n_jobs=1)"
     ],
     "language": "python",
     "metadata": {},
     "outputs": [
      {
       "output_type": "stream",
       "stream": "stderr",
       "text": [
        "/Users/sergulaydore/anaconda/lib/python2.7/site-packages/sklearn/cross_validation.py:65: DeprecationWarning: The indices parameter is deprecated and will be removed (assumed True) in 0.17\n",
        "  stacklevel=1)\n"
       ]
      }
     ],
     "prompt_number": 215
    },
    {
     "cell_type": "code",
     "collapsed": false,
     "input": [
      "acc_per_fold = [lrgs.fit(X[train],y[train]).score(X[test],y[test]) for train, test in kf_total]"
     ],
     "language": "python",
     "metadata": {},
     "outputs": [],
     "prompt_number": 216
    },
    {
     "cell_type": "code",
     "collapsed": false,
     "input": [
      "np.mean(acc_per_fold)"
     ],
     "language": "python",
     "metadata": {},
     "outputs": [
      {
       "metadata": {},
       "output_type": "pyout",
       "prompt_number": 217,
       "text": [
        "0.80759493670886084"
       ]
      }
     ],
     "prompt_number": 217
    },
    {
     "cell_type": "code",
     "collapsed": false,
     "input": [
      "print lrgs.best_params_"
     ],
     "language": "python",
     "metadata": {},
     "outputs": [
      {
       "output_type": "stream",
       "stream": "stdout",
       "text": [
        "{'alpha': 0.1, 'l1_ratio': 0.0}\n"
       ]
      }
     ],
     "prompt_number": 218
    },
    {
     "cell_type": "code",
     "collapsed": false,
     "input": [
      "lrgs.best_params_.keys()"
     ],
     "language": "python",
     "metadata": {},
     "outputs": [
      {
       "metadata": {},
       "output_type": "pyout",
       "prompt_number": 188,
       "text": [
        "['l1_ratio']"
       ]
      }
     ],
     "prompt_number": 188
    },
    {
     "cell_type": "code",
     "collapsed": false,
     "input": [
      "acc_per_fold"
     ],
     "language": "python",
     "metadata": {},
     "outputs": [
      {
       "metadata": {},
       "output_type": "pyout",
       "prompt_number": 219,
       "text": [
        "[0.82278481012658233,\n",
        " 0.810126582278481,\n",
        " 0.78481012658227844,\n",
        " 0.82278481012658233,\n",
        " 0.79746835443037978]"
       ]
      }
     ],
     "prompt_number": 219
    },
    {
     "cell_type": "code",
     "collapsed": false,
     "input": [
      "l1_range"
     ],
     "language": "python",
     "metadata": {},
     "outputs": [
      {
       "metadata": {},
       "output_type": "pyout",
       "prompt_number": 220,
       "text": [
        "array([ 0.        ,  0.05263158,  0.10526316,  0.15789474,  0.21052632,\n",
        "        0.26315789,  0.31578947,  0.36842105,  0.42105263,  0.47368421,\n",
        "        0.52631579,  0.57894737,  0.63157895,  0.68421053,  0.73684211,\n",
        "        0.78947368,  0.84210526,  0.89473684,  0.94736842,  1.        ])"
       ]
      }
     ],
     "prompt_number": 220
    },
    {
     "cell_type": "code",
     "collapsed": false,
     "input": [
      "cc = c['l1_ratio']"
     ],
     "language": "python",
     "metadata": {},
     "outputs": [],
     "prompt_number": 197
    },
    {
     "cell_type": "code",
     "collapsed": false,
     "input": [
      "cc*100"
     ],
     "language": "python",
     "metadata": {},
     "outputs": [
      {
       "metadata": {},
       "output_type": "pyout",
       "prompt_number": 203,
       "text": [
        "0.0"
       ]
      }
     ],
     "prompt_number": 203
    },
    {
     "cell_type": "code",
     "collapsed": false,
     "input": [],
     "language": "python",
     "metadata": {},
     "outputs": []
    }
   ],
   "metadata": {}
  }
 ]
}