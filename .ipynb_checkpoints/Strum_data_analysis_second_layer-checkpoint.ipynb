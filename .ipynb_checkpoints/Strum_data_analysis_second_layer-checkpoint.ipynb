{
 "metadata": {
  "name": "",
  "signature": "sha256:0bb02d2d33b0edbd34253f81d5c700aaad0a127cffb5ac8cb2be2116cb1f7f5f"
 },
 "nbformat": 3,
 "nbformat_minor": 0,
 "worksheets": [
  {
   "cells": [
    {
     "cell_type": "code",
     "collapsed": false,
     "input": [
      "import pandas as pd"
     ],
     "language": "python",
     "metadata": {},
     "outputs": [],
     "prompt_number": 1
    },
    {
     "cell_type": "code",
     "collapsed": false,
     "input": [
      "data = pd.read_csv('strum_etas.csv', nrows = 395)"
     ],
     "language": "python",
     "metadata": {},
     "outputs": [],
     "prompt_number": 6
    },
    {
     "cell_type": "code",
     "collapsed": false,
     "input": [
      "data.head()"
     ],
     "language": "python",
     "metadata": {},
     "outputs": [
      {
       "html": [
        "<div style=\"max-height:1000px;max-width:1500px;overflow:auto;\">\n",
        "<table border=\"1\" class=\"dataframe\">\n",
        "  <thead>\n",
        "    <tr style=\"text-align: right;\">\n",
        "      <th></th>\n",
        "      <th>Subject</th>\n",
        "      <th>Label</th>\n",
        "      <th>EEG-Stim</th>\n",
        "      <th>EEG-Stim.1</th>\n",
        "      <th>EEG-Stim.2</th>\n",
        "      <th>EEG-Stim.3</th>\n",
        "      <th>EEG-Stim.4</th>\n",
        "      <th>EEG-Stim.5</th>\n",
        "      <th>EEG-Stim.6</th>\n",
        "      <th>EEG-Stim.7</th>\n",
        "      <th>...</th>\n",
        "      <th>EEG-Cue.28</th>\n",
        "      <th>Pupil</th>\n",
        "      <th>Pupil.1</th>\n",
        "      <th>Pupil.2</th>\n",
        "      <th>Pupil.3</th>\n",
        "      <th>Pupil.4</th>\n",
        "      <th>Pupil.5</th>\n",
        "      <th>Pupil.6</th>\n",
        "      <th>HR</th>\n",
        "      <th>RT</th>\n",
        "    </tr>\n",
        "  </thead>\n",
        "  <tbody>\n",
        "    <tr>\n",
        "      <th>0</th>\n",
        "      <td> Experiment 814 Participant 1</td>\n",
        "      <td> 1</td>\n",
        "      <td> 0.746444</td>\n",
        "      <td> 0.485325</td>\n",
        "      <td> 0.829125</td>\n",
        "      <td> 1.540146</td>\n",
        "      <td>-2.329194</td>\n",
        "      <td> 1.020377</td>\n",
        "      <td>-0.179768</td>\n",
        "      <td> 1.275368</td>\n",
        "      <td>...</td>\n",
        "      <td> 0.189985</td>\n",
        "      <td>-0.394676</td>\n",
        "      <td> 0.640289</td>\n",
        "      <td> 0.900252</td>\n",
        "      <td> 0.845796</td>\n",
        "      <td> 0.003208</td>\n",
        "      <td>-1.937860</td>\n",
        "      <td>-0.293665</td>\n",
        "      <td>-0.936044</td>\n",
        "      <td> 0.980244</td>\n",
        "    </tr>\n",
        "    <tr>\n",
        "      <th>1</th>\n",
        "      <td> Experiment 814 Participant 1</td>\n",
        "      <td> 1</td>\n",
        "      <td>-0.239769</td>\n",
        "      <td> 1.459300</td>\n",
        "      <td> 2.199443</td>\n",
        "      <td> 2.370528</td>\n",
        "      <td> 2.565109</td>\n",
        "      <td> 0.316509</td>\n",
        "      <td>-0.193708</td>\n",
        "      <td> 2.194757</td>\n",
        "      <td>...</td>\n",
        "      <td>-0.511040</td>\n",
        "      <td>-0.226522</td>\n",
        "      <td> 0.203983</td>\n",
        "      <td>-0.975082</td>\n",
        "      <td>-1.220389</td>\n",
        "      <td>-0.285274</td>\n",
        "      <td>-1.252320</td>\n",
        "      <td>-0.948624</td>\n",
        "      <td>-1.739984</td>\n",
        "      <td> 1.045178</td>\n",
        "    </tr>\n",
        "    <tr>\n",
        "      <th>2</th>\n",
        "      <td> Experiment 814 Participant 1</td>\n",
        "      <td> 1</td>\n",
        "      <td>-1.195660</td>\n",
        "      <td>-0.330901</td>\n",
        "      <td> 0.783975</td>\n",
        "      <td>-0.779783</td>\n",
        "      <td> 1.430358</td>\n",
        "      <td>-0.339441</td>\n",
        "      <td>-0.143085</td>\n",
        "      <td> 1.184952</td>\n",
        "      <td>...</td>\n",
        "      <td> 0.188220</td>\n",
        "      <td> 2.441639</td>\n",
        "      <td> 0.619945</td>\n",
        "      <td> 0.975656</td>\n",
        "      <td> 1.945333</td>\n",
        "      <td> 2.001038</td>\n",
        "      <td> 2.527086</td>\n",
        "      <td> 1.993611</td>\n",
        "      <td>-0.954548</td>\n",
        "      <td> 2.381598</td>\n",
        "    </tr>\n",
        "    <tr>\n",
        "      <th>3</th>\n",
        "      <td> Experiment 814 Participant 1</td>\n",
        "      <td> 1</td>\n",
        "      <td>-2.209969</td>\n",
        "      <td>-2.276616</td>\n",
        "      <td> 0.487590</td>\n",
        "      <td> 0.088967</td>\n",
        "      <td> 0.572767</td>\n",
        "      <td> 0.039214</td>\n",
        "      <td>-1.120789</td>\n",
        "      <td>-1.865061</td>\n",
        "      <td>...</td>\n",
        "      <td>-2.533828</td>\n",
        "      <td> 0.610920</td>\n",
        "      <td>-0.053411</td>\n",
        "      <td> 0.131995</td>\n",
        "      <td>-1.211616</td>\n",
        "      <td>-1.290166</td>\n",
        "      <td>-2.161529</td>\n",
        "      <td> 0.008613</td>\n",
        "      <td>-0.976702</td>\n",
        "      <td>-0.513637</td>\n",
        "    </tr>\n",
        "    <tr>\n",
        "      <th>4</th>\n",
        "      <td> Experiment 814 Participant 1</td>\n",
        "      <td> 1</td>\n",
        "      <td>-0.752250</td>\n",
        "      <td>-0.326498</td>\n",
        "      <td> 0.072258</td>\n",
        "      <td>-0.465668</td>\n",
        "      <td>-0.227032</td>\n",
        "      <td> 0.423054</td>\n",
        "      <td>-0.118368</td>\n",
        "      <td>-0.553360</td>\n",
        "      <td>...</td>\n",
        "      <td> 0.324159</td>\n",
        "      <td>-0.772491</td>\n",
        "      <td>-0.132604</td>\n",
        "      <td>-0.580858</td>\n",
        "      <td>-3.267798</td>\n",
        "      <td>-1.897679</td>\n",
        "      <td>-1.162399</td>\n",
        "      <td>-1.532061</td>\n",
        "      <td> 0.207982</td>\n",
        "      <td> 0.963707</td>\n",
        "    </tr>\n",
        "  </tbody>\n",
        "</table>\n",
        "<p>5 rows \u00d7 69 columns</p>\n",
        "</div>"
       ],
       "metadata": {},
       "output_type": "pyout",
       "prompt_number": 67,
       "text": [
        "                        Subject  Label  EEG-Stim  EEG-Stim.1  EEG-Stim.2  \\\n",
        "0  Experiment 814 Participant 1      1  0.746444    0.485325    0.829125   \n",
        "1  Experiment 814 Participant 1      1 -0.239769    1.459300    2.199443   \n",
        "2  Experiment 814 Participant 1      1 -1.195660   -0.330901    0.783975   \n",
        "3  Experiment 814 Participant 1      1 -2.209969   -2.276616    0.487590   \n",
        "4  Experiment 814 Participant 1      1 -0.752250   -0.326498    0.072258   \n",
        "\n",
        "   EEG-Stim.3  EEG-Stim.4  EEG-Stim.5  EEG-Stim.6  EEG-Stim.7    ...     \\\n",
        "0    1.540146   -2.329194    1.020377   -0.179768    1.275368    ...      \n",
        "1    2.370528    2.565109    0.316509   -0.193708    2.194757    ...      \n",
        "2   -0.779783    1.430358   -0.339441   -0.143085    1.184952    ...      \n",
        "3    0.088967    0.572767    0.039214   -1.120789   -1.865061    ...      \n",
        "4   -0.465668   -0.227032    0.423054   -0.118368   -0.553360    ...      \n",
        "\n",
        "   EEG-Cue.28     Pupil   Pupil.1   Pupil.2   Pupil.3   Pupil.4   Pupil.5  \\\n",
        "0    0.189985 -0.394676  0.640289  0.900252  0.845796  0.003208 -1.937860   \n",
        "1   -0.511040 -0.226522  0.203983 -0.975082 -1.220389 -0.285274 -1.252320   \n",
        "2    0.188220  2.441639  0.619945  0.975656  1.945333  2.001038  2.527086   \n",
        "3   -2.533828  0.610920 -0.053411  0.131995 -1.211616 -1.290166 -2.161529   \n",
        "4    0.324159 -0.772491 -0.132604 -0.580858 -3.267798 -1.897679 -1.162399   \n",
        "\n",
        "    Pupil.6        HR        RT  \n",
        "0 -0.293665 -0.936044  0.980244  \n",
        "1 -0.948624 -1.739984  1.045178  \n",
        "2  1.993611 -0.954548  2.381598  \n",
        "3  0.008613 -0.976702 -0.513637  \n",
        "4 -1.532061  0.207982  0.963707  \n",
        "\n",
        "[5 rows x 69 columns]"
       ]
      }
     ],
     "prompt_number": 67
    },
    {
     "cell_type": "code",
     "collapsed": false,
     "input": [
      "data_single = data[data['Subject'] == 'Experiment 766 Participant 0' ]\n"
     ],
     "language": "python",
     "metadata": {},
     "outputs": [],
     "prompt_number": 55
    },
    {
     "cell_type": "code",
     "collapsed": false,
     "input": [
      "y = data_single['Label'].values\n",
      "X = data_single.ix[:,2:].values"
     ],
     "language": "python",
     "metadata": {},
     "outputs": [],
     "prompt_number": 56
    },
    {
     "cell_type": "code",
     "collapsed": false,
     "input": [
      "X"
     ],
     "language": "python",
     "metadata": {},
     "outputs": [
      {
       "metadata": {},
       "output_type": "pyout",
       "prompt_number": 57,
       "text": [
        "array([[-0.59000153, -0.04233115,  0.28564352, ...,  0.66137497,\n",
        "         0.46807259, -0.27510126],\n",
        "       [ 0.02625907, -0.24260842, -0.06281953, ...,  1.14563974,\n",
        "        -0.23413621,  0.32867769],\n",
        "       [ 0.08527153,  0.34199637, -0.43236762, ...,  0.89966629,\n",
        "        -0.12426857,  0.54997606],\n",
        "       ..., \n",
        "       [ 0.26294457, -0.41668231, -0.65575314, ...,  0.79345253,\n",
        "         0.29733178,  0.06764957],\n",
        "       [-0.17193228, -0.28406137, -0.90820378, ..., -0.90385513,\n",
        "        -0.71881559, -1.03889685],\n",
        "       [ 0.83082242,  0.76755175,  0.5262907 , ..., -0.9529978 ,\n",
        "         0.32619526, -0.75575763]])"
       ]
      }
     ],
     "prompt_number": 57
    },
    {
     "cell_type": "code",
     "collapsed": false,
     "input": [
      "X.shape"
     ],
     "language": "python",
     "metadata": {},
     "outputs": [
      {
       "metadata": {},
       "output_type": "pyout",
       "prompt_number": 58,
       "text": [
        "(95, 67)"
       ]
      }
     ],
     "prompt_number": 58
    },
    {
     "cell_type": "code",
     "collapsed": false,
     "input": [
      "import numpy as np\n",
      "from sklearn import datasets, linear_model, cross_validation, grid_search\n",
      "lr = linear_model.LogisticRegression()\n",
      "c_range = np.logspace(0, 4, 100)\n",
      "lrgs = grid_search.GridSearchCV(estimator=lr, param_grid=dict(C=c_range,penalty=['l1','l2']), n_jobs=1)\n",
      "kf_total = cross_validation.KFold(len(X), n_folds=10, indices=True, shuffle=True, random_state=4)"
     ],
     "language": "python",
     "metadata": {},
     "outputs": [
      {
       "output_type": "stream",
       "stream": "stderr",
       "text": [
        "/Users/sergulaydore/anaconda/lib/python2.7/site-packages/sklearn/cross_validation.py:65: DeprecationWarning: The indices parameter is deprecated and will be removed (assumed True) in 0.17\n",
        "  stacklevel=1)\n"
       ]
      }
     ],
     "prompt_number": 123
    },
    {
     "cell_type": "code",
     "collapsed": false,
     "input": [
      "acc_per_fold = [lrgs.fit(X[train],y[train]).score(X[test],y[test]) for train, test in kf_total]"
     ],
     "language": "python",
     "metadata": {},
     "outputs": [],
     "prompt_number": 124
    },
    {
     "cell_type": "code",
     "collapsed": false,
     "input": [
      "np.mean(acc_per_fold)"
     ],
     "language": "python",
     "metadata": {},
     "outputs": [
      {
       "metadata": {},
       "output_type": "pyout",
       "prompt_number": 125,
       "text": [
        "0.73222222222222233"
       ]
      }
     ],
     "prompt_number": 125
    },
    {
     "cell_type": "code",
     "collapsed": false,
     "input": [
      "lrgs.best_params_"
     ],
     "language": "python",
     "metadata": {},
     "outputs": [
      {
       "metadata": {},
       "output_type": "pyout",
       "prompt_number": 126,
       "text": [
        "{'C': 7564.6332755462909, 'penalty': 'l1'}"
       ]
      }
     ],
     "prompt_number": 126
    },
    {
     "cell_type": "code",
     "collapsed": false,
     "input": [
      "c_range"
     ],
     "language": "python",
     "metadata": {},
     "outputs": [
      {
       "metadata": {},
       "output_type": "pyout",
       "prompt_number": 28,
       "text": [
        "array([  1.00000000e+00,   2.78255940e+00,   7.74263683e+00,\n",
        "         2.15443469e+01,   5.99484250e+01,   1.66810054e+02,\n",
        "         4.64158883e+02,   1.29154967e+03,   3.59381366e+03,\n",
        "         1.00000000e+04])"
       ]
      }
     ],
     "prompt_number": 28
    },
    {
     "cell_type": "code",
     "collapsed": false,
     "input": [
      "log_elastic_net = linear_model.SGDClassifier(loss='log')\n",
      "l1_range = np.linspace(0, 1, 20)\n",
      "alpha_range = [0.0001 , 0.001, 0.01, 0.1, 1]\n",
      "lrgs = grid_search.GridSearchCV(estimator=log_elastic_net, param_grid=dict( alpha = alpha_range,\n",
      "                                                                           l1_ratio = l1_range), n_jobs=1)"
     ],
     "language": "python",
     "metadata": {},
     "outputs": [],
     "prompt_number": 204
    },
    {
     "cell_type": "code",
     "collapsed": false,
     "input": [
      "acc_per_fold = [lrgs.fit(X[train],y[train]).score(X[test],y[test]) for train, test in kf_total]"
     ],
     "language": "python",
     "metadata": {},
     "outputs": [],
     "prompt_number": 205
    },
    {
     "cell_type": "code",
     "collapsed": false,
     "input": [
      "np.mean(acc_per_fold)"
     ],
     "language": "python",
     "metadata": {},
     "outputs": [
      {
       "metadata": {},
       "output_type": "pyout",
       "prompt_number": 206,
       "text": [
        "0.81111111111111112"
       ]
      }
     ],
     "prompt_number": 206
    },
    {
     "cell_type": "code",
     "collapsed": false,
     "input": [
      "print lrgs.best_params_"
     ],
     "language": "python",
     "metadata": {},
     "outputs": [
      {
       "output_type": "stream",
       "stream": "stdout",
       "text": [
        "{'alpha': 0.01, 'l1_ratio': 0.0}\n"
       ]
      }
     ],
     "prompt_number": 207
    },
    {
     "cell_type": "code",
     "collapsed": false,
     "input": [
      "lrgs.best_params_.keys()"
     ],
     "language": "python",
     "metadata": {},
     "outputs": [
      {
       "metadata": {},
       "output_type": "pyout",
       "prompt_number": 188,
       "text": [
        "['l1_ratio']"
       ]
      }
     ],
     "prompt_number": 188
    },
    {
     "cell_type": "code",
     "collapsed": false,
     "input": [
      "c[\"['l1_ratio']\"]"
     ],
     "language": "python",
     "metadata": {},
     "outputs": [
      {
       "ename": "KeyError",
       "evalue": "\"['l1_ratio']\"",
       "output_type": "pyerr",
       "traceback": [
        "\u001b[0;31m---------------------------------------------------------------------------\u001b[0m\n\u001b[0;31mKeyError\u001b[0m                                  Traceback (most recent call last)",
        "\u001b[0;32m<ipython-input-190-dd54d2f6266a>\u001b[0m in \u001b[0;36m<module>\u001b[0;34m()\u001b[0m\n\u001b[0;32m----> 1\u001b[0;31m \u001b[0mc\u001b[0m\u001b[0;34m[\u001b[0m\u001b[0;34m\"['l1_ratio']\"\u001b[0m\u001b[0;34m]\u001b[0m\u001b[0;34m\u001b[0m\u001b[0m\n\u001b[0m",
        "\u001b[0;31mKeyError\u001b[0m: \"['l1_ratio']\""
       ]
      }
     ],
     "prompt_number": 190
    },
    {
     "cell_type": "code",
     "collapsed": false,
     "input": [
      "c.keys()"
     ],
     "language": "python",
     "metadata": {},
     "outputs": [
      {
       "metadata": {},
       "output_type": "pyout",
       "prompt_number": 191,
       "text": [
        "['l1_ratio']"
       ]
      }
     ],
     "prompt_number": 191
    },
    {
     "cell_type": "code",
     "collapsed": false,
     "input": [
      "cc = c['l1_ratio']"
     ],
     "language": "python",
     "metadata": {},
     "outputs": [],
     "prompt_number": 197
    },
    {
     "cell_type": "code",
     "collapsed": false,
     "input": [
      "cc*100"
     ],
     "language": "python",
     "metadata": {},
     "outputs": [
      {
       "metadata": {},
       "output_type": "pyout",
       "prompt_number": 203,
       "text": [
        "0.0"
       ]
      }
     ],
     "prompt_number": 203
    },
    {
     "cell_type": "code",
     "collapsed": false,
     "input": [],
     "language": "python",
     "metadata": {},
     "outputs": []
    }
   ],
   "metadata": {}
  }
 ]
}