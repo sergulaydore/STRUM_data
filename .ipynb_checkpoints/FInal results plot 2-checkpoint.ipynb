{
 "metadata": {
  "name": "",
  "signature": "sha256:d7f42e32a8dafb9635e5cb07eaa58712d1728def813956e200f9a25b39e5d70f"
 },
 "nbformat": 3,
 "nbformat_minor": 0,
 "worksheets": [
  {
   "cells": [
    {
     "cell_type": "code",
     "collapsed": false,
     "input": [
      "import pandas as pd\n",
      "import seaborn as sns\n",
      "%pylab inline\n",
      "from sklearn.metrics import roc_curve, auc"
     ],
     "language": "python",
     "metadata": {},
     "outputs": [
      {
       "output_type": "stream",
       "stream": "stdout",
       "text": [
        "Populating the interactive namespace from numpy and matplotlib\n"
       ]
      }
     ],
     "prompt_number": 37
    },
    {
     "cell_type": "code",
     "collapsed": false,
     "input": [
      "results = pd.load('all_results_new')"
     ],
     "language": "python",
     "metadata": {},
     "outputs": [],
     "prompt_number": 33
    },
    {
     "cell_type": "code",
     "collapsed": false,
     "input": [
      "# results.rename(columns={'Unnamed: 0': 'Subjects'}, inplace=True)\n",
      "results['Subjects'] = results.index\n",
      "results.reset_index(inplace=True)\n",
      "results.drop('index',1, inplace = True)\n",
      "results.head(6)"
     ],
     "language": "python",
     "metadata": {},
     "outputs": [
      {
       "html": [
        "<div style=\"max-height:1000px;max-width:1500px;overflow:auto;\">\n",
        "<table border=\"1\" class=\"dataframe\">\n",
        "  <thead>\n",
        "    <tr style=\"text-align: right;\">\n",
        "      <th></th>\n",
        "      <th>acc</th>\n",
        "      <th>auc</th>\n",
        "      <th>modalities</th>\n",
        "      <th>y_pred_all</th>\n",
        "      <th>y_true_all</th>\n",
        "      <th>Subjects</th>\n",
        "    </tr>\n",
        "  </thead>\n",
        "  <tbody>\n",
        "    <tr>\n",
        "      <th>0</th>\n",
        "      <td> 0.684211</td>\n",
        "      <td> 0.680108</td>\n",
        "      <td>    EEG-Stim,EEG-Cue,Pupil</td>\n",
        "      <td> [0.503268801029, 0.505608070248, 0.50498178567...</td>\n",
        "      <td> [0, 0, 1, 1, 1, 1, 1, 1, 1, 0, 1, 1, 1, 1, 1, ...</td>\n",
        "      <td> 0</td>\n",
        "    </tr>\n",
        "    <tr>\n",
        "      <th>1</th>\n",
        "      <td> 0.840426</td>\n",
        "      <td> 0.841053</td>\n",
        "      <td>    EEG-Stim,EEG-Cue,Pupil</td>\n",
        "      <td> [0.746574505499, 0.796929806084, 0.63603640485...</td>\n",
        "      <td> [1, 1, 1, 1, 1, 1, 1, 1, 0, 0, 1, 1, 1, 1, 1, ...</td>\n",
        "      <td> 1</td>\n",
        "    </tr>\n",
        "    <tr>\n",
        "      <th>2</th>\n",
        "      <td> 0.785714</td>\n",
        "      <td> 0.796188</td>\n",
        "      <td>    EEG-Stim,EEG-Cue,Pupil</td>\n",
        "      <td> [0.357624713209, 0.381586128395, 0.33111789325...</td>\n",
        "      <td> [1, 1, 1, 1, 0, 0, 0, 0, 0, 1, 1, 1, 1, 1, 1, ...</td>\n",
        "      <td> 2</td>\n",
        "    </tr>\n",
        "    <tr>\n",
        "      <th>3</th>\n",
        "      <td> 0.761194</td>\n",
        "      <td> 0.781765</td>\n",
        "      <td>    EEG-Stim,EEG-Cue,Pupil</td>\n",
        "      <td> [0.407467704275, 0.722285449722, 0.61677497716...</td>\n",
        "      <td> [1, 1, 1, 1, 0, 0, 0, 1, 1, 1, 1, 1, 1, 0, 1, ...</td>\n",
        "      <td> 3</td>\n",
        "    </tr>\n",
        "    <tr>\n",
        "      <th>4</th>\n",
        "      <td> 0.618182</td>\n",
        "      <td> 0.785714</td>\n",
        "      <td>    EEG-Stim,EEG-Cue,Pupil</td>\n",
        "      <td> [0.506151802496, 0.501435235296, 0.50152674053...</td>\n",
        "      <td> [1, 1, 1, 1, 1, 0, 1, 1, 1, 1, 1, 1, 1, 1, 1, ...</td>\n",
        "      <td> 4</td>\n",
        "    </tr>\n",
        "    <tr>\n",
        "      <th>5</th>\n",
        "      <td> 0.694737</td>\n",
        "      <td> 0.695259</td>\n",
        "      <td> EEG-Stim,EEG-Cue,Pupil,RT</td>\n",
        "      <td> [0.586917029727, 0.678144975386, 0.64161006420...</td>\n",
        "      <td> [0, 0, 1, 1, 1, 1, 1, 1, 1, 0, 1, 1, 1, 1, 1, ...</td>\n",
        "      <td> 0</td>\n",
        "    </tr>\n",
        "  </tbody>\n",
        "</table>\n",
        "</div>"
       ],
       "metadata": {},
       "output_type": "pyout",
       "prompt_number": 34,
       "text": [
        "        acc       auc                 modalities  \\\n",
        "0  0.684211  0.680108     EEG-Stim,EEG-Cue,Pupil   \n",
        "1  0.840426  0.841053     EEG-Stim,EEG-Cue,Pupil   \n",
        "2  0.785714  0.796188     EEG-Stim,EEG-Cue,Pupil   \n",
        "3  0.761194  0.781765     EEG-Stim,EEG-Cue,Pupil   \n",
        "4  0.618182  0.785714     EEG-Stim,EEG-Cue,Pupil   \n",
        "5  0.694737  0.695259  EEG-Stim,EEG-Cue,Pupil,RT   \n",
        "\n",
        "                                          y_pred_all  \\\n",
        "0  [0.503268801029, 0.505608070248, 0.50498178567...   \n",
        "1  [0.746574505499, 0.796929806084, 0.63603640485...   \n",
        "2  [0.357624713209, 0.381586128395, 0.33111789325...   \n",
        "3  [0.407467704275, 0.722285449722, 0.61677497716...   \n",
        "4  [0.506151802496, 0.501435235296, 0.50152674053...   \n",
        "5  [0.586917029727, 0.678144975386, 0.64161006420...   \n",
        "\n",
        "                                          y_true_all  Subjects  \n",
        "0  [0, 0, 1, 1, 1, 1, 1, 1, 1, 0, 1, 1, 1, 1, 1, ...         0  \n",
        "1  [1, 1, 1, 1, 1, 1, 1, 1, 0, 0, 1, 1, 1, 1, 1, ...         1  \n",
        "2  [1, 1, 1, 1, 0, 0, 0, 0, 0, 1, 1, 1, 1, 1, 1, ...         2  \n",
        "3  [1, 1, 1, 1, 0, 0, 0, 1, 1, 1, 1, 1, 1, 0, 1, ...         3  \n",
        "4  [1, 1, 1, 1, 1, 0, 1, 1, 1, 1, 1, 1, 1, 1, 1, ...         4  \n",
        "5  [0, 0, 1, 1, 1, 1, 1, 1, 1, 0, 1, 1, 1, 1, 1, ...         0  "
       ]
      }
     ],
     "prompt_number": 34
    },
    {
     "cell_type": "code",
     "collapsed": false,
     "input": [
      "means = results.groupby('modalities').mean()\n",
      "x = means.sort('auc')\n",
      "sns.set_context(\"notebook\", font_scale=2, rc={\"lines.linewidth\": 2.5})\n",
      "sns.set_style(\"whitegrid\")\n",
      "#ax = sns.boxplot(results.auc, groupby=results.modalities, order = x.index.values, palette=\"BuPu\")\n",
      "ax = sns.barplot( \"modalities\", y=\"auc\", data=results, estimator=mean, palette=\"BuPu\", x_order=x.index.values)\n",
      "ax.set_ylim(0.4,0.9)\n",
      "ax.set_ylabel('Area under curve (AUC)')\n",
      "locs, labels = plt.xticks();\n",
      "plt.setp(labels, rotation=90);"
     ],
     "language": "python",
     "metadata": {},
     "outputs": [
      {
       "metadata": {},
       "output_type": "display_data",
       "png": "[encoded data removed]",
       "text": [
        "<matplotlib.figure.Figure at 0x10ca6aa50>"
       ]
      }
     ],
     "prompt_number": 35
    },
    {
     "cell_type": "code",
     "collapsed": false,
     "input": [
      "groups_by_subject = results.groupby(['Subjects','modalities'])"
     ],
     "language": "python",
     "metadata": {},
     "outputs": [],
     "prompt_number": 38
    },
    {
     "cell_type": "code",
     "collapsed": false,
     "input": [
      "for idx, group_subject in enumerate(groups_by_subject):\n",
      "    if group_subject[0][0] == 1:\n",
      "        data = groups_by_subject.get_group(group_subject[0])\n",
      "        fpr, tpr, thresholds = roc_curve(data.y_true_all.values[0], data.y_pred_all.values[0])\n",
      "        label = group_subject[0][1]"
     ],
     "language": "python",
     "metadata": {},
     "outputs": [],
     "prompt_number": 46
    },
    {
     "cell_type": "code",
     "collapsed": false,
     "input": [
      "data.y_true_all.values[0]"
     ],
     "language": "python",
     "metadata": {},
     "outputs": [
      {
       "metadata": {},
       "output_type": "pyout",
       "prompt_number": 45,
       "text": [
        "array([1, 1, 1, 1, 1, 1, 1, 1, 0, 0, 1, 1, 1, 1, 1, 1, 1, 1, 1, 0, 1, 1, 1,\n",
        "       1, 1, 1, 1, 1, 0, 0, 1, 1, 1, 1, 1, 1, 1, 0, 0, 0, 1, 1, 1, 1, 1, 1,\n",
        "       1, 1, 0, 1, 1, 1, 1, 1, 1, 1, 0, 0, 1, 1, 1, 1, 1, 1, 1, 1, 0, 1, 1,\n",
        "       1, 1, 1, 1, 0, 0, 0, 1, 1, 1, 1, 1, 1, 0, 0, 0, 1, 1, 1, 1, 1, 1, 1,\n",
        "       1, 0])"
       ]
      }
     ],
     "prompt_number": 45
    },
    {
     "cell_type": "code",
     "collapsed": false,
     "input": [
      "group_subject[0][1]"
     ],
     "language": "python",
     "metadata": {},
     "outputs": [
      {
       "metadata": {},
       "output_type": "pyout",
       "prompt_number": 47,
       "text": [
        "'RT'"
       ]
      }
     ],
     "prompt_number": 47
    },
    {
     "cell_type": "code",
     "collapsed": false,
     "input": [],
     "language": "python",
     "metadata": {},
     "outputs": []
    }
   ],
   "metadata": {}
  }
 ]
}