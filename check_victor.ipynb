{
 "metadata": {
  "name": "",
  "signature": "sha256:80905cc055af2fc5837db6d598ff68ca3657bb4b51a17174f761b7b968b19906"
 },
 "nbformat": 3,
 "nbformat_minor": 0,
 "worksheets": [
  {
   "cells": [
    {
     "cell_type": "code",
     "collapsed": false,
     "input": [
      "import scipy.io as sci\n",
      "import numpy as np\n",
      "import pandas as pd\n",
      "from sklearn import datasets, linear_model, cross_validation, grid_search\n",
      "from sklearn.cross_validation import StratifiedKFold\n",
      "\n",
      "\n",
      "Experiment_str = '763'\n",
      "Participant_str = '1'\n",
      "mat = sci.loadmat('./PythonInputs/64Hz/Experiment_'+Experiment_str+'_Participant_'+Participant_str+'_First_Layer_Stim.mat')\n",
      "y_all = mat['y'][0]\n",
      "X_all_stim = mat['X'][0]\n",
      "X1_all_stim = mat['X1'][0]\n",
      "X2_all_stim = mat['X2'][0]\n",
      "mat = sci.loadmat('./PythonInputs/64Hz/Experiment_'+Experiment_str+'_Participant_'+Participant_str+'_First_Layer_Cue.mat')\n",
      "X_all_cue = mat['X'][0]\n",
      "X1_all_cue = mat['X1'][0]\n",
      "X2_all_cue = mat['X2'][0]  \n",
      "\n",
      "data = pd.read_csv('./PythonInputs/strum_other_etas.csv',nrows=395)\n",
      "subject_counts = data.Subject.value_counts()\n",
      "subjects = subject_counts.keys()\n",
      "\n",
      "data_single = data[data.Subject == 'Experiment '+Experiment_str+' Participant '+Participant_str]\n",
      "pupil_data = np.transpose(np.array(data_single[['Pupil','Pupil.1','Pupil.2','Pupil.3','Pupil.4','Pupil.5','Pupil.6']].values))\n",
      "HR_data = np.array(data_single['HR'].values)\n",
      "RT_data = np.array(data_single['RT'].values)\n",
      "\n",
      "y = np.ravel(y_all[0])\n",
      "cv1 = cross_validation.KFold(len(y), n_folds=10, shuffle=True, random_state=5)\n",
      "etas_test = np.zeros([len(y)])"
     ],
     "language": "python",
     "metadata": {},
     "outputs": [],
     "prompt_number": 1
    },
    {
     "cell_type": "code",
     "collapsed": false,
     "input": [
      "np.shape(np.zeros([1,len(y)]))"
     ],
     "language": "python",
     "metadata": {},
     "outputs": [
      {
       "metadata": {},
       "output_type": "pyout",
       "prompt_number": 4,
       "text": [
        "(1, 94)"
       ]
      }
     ],
     "prompt_number": 4
    },
    {
     "cell_type": "code",
     "collapsed": false,
     "input": [
      "for idx_cv_1, (train1, test1) in enumerate(cv1):\n",
      "    print \"Fold \", idx_cv_1+1\n",
      "    print 'Train size: ', len(train1)\n",
      "    print 'Test size: ', len(test1)\n",
      "    y_test = y[test1]\n",
      "    y_train = y[train1]\n",
      "    etas_stim_train = np.zeros([29,len(y_train)])\n",
      "    etas_cue_train = np.zeros([29,len(y_train)])\n",
      "    etas_pupil_train = pupil_data[:,train1]\n",
      "    etas_HR_train = HR_data[train1]\n",
      "    etas_RT_train = RT_data[train1]\n",
      "    etas_pupil_test = pupil_data[:,test1]\n",
      "    etas_HR_test = HR_data[test1]\n",
      "    etas_RT_test = RT_data[test1]\n",
      "    stim_model = list([])\n",
      "    cue_model = list([])\n",
      "    param_grid = {'C':np.logspace(0, 4, 100),'penalty':['l1','l2']}\n",
      "    cv2 = cross_validation.ShuffleSplit(len(y_train), n_iter=100, test_size=0.3, random_state=2)\n",
      "    \n",
      "    for winind in xrange(29):\n",
      "        X1_stim = np.transpose(X1_all_stim[winind])\n",
      "        X2_stim = np.transpose(X2_all_stim[winind])\n",
      "        X_stim = np.concatenate((X1_stim,X2_stim),axis=0) \n",
      "        X_train_stim = X_stim[train1]\n",
      "        logist = linear_model.LogisticRegression()\n",
      "\n",
      "        cvlogist = grid_search.GridSearchCV(logist,param_grid,scoring='roc_auc',n_jobs=10,cv=cv2)\n",
      "        shuffler = np.random.permutation(len(y_train))\n",
      "        unshuffler = np.argsort(shuffler)\n",
      "        X_train_stim_shuffled = X_train_stim[shuffler,:]\n",
      "        y_train_shuffled = y_train[shuffler]\n",
      "        cvlogist.fit(X_train_stim_shuffled,y_train_shuffled)\n",
      "        x = cvlogist.predict_proba(X_train_stim_shuffled)\n",
      "        etas_stim_train[winind][:] = np.log(x[:,1]/(1-x[:,1])) \n",
      "        etas_stim_train[winind][:] = etas_stim_train[winind][unshuffler]\n",
      "        stim_model.append(cvlogist)\n",
      "        \n",
      "        X1_cue = np.transpose(X1_all_cue[winind])\n",
      "        X2_cue = np.transpose(X2_all_cue[winind])\n",
      "        X_cue = np.concatenate((X1_cue,X2_cue),axis=0)\n",
      "        X_train_cue = X_cue[train1]\n",
      "        logist = linear_model.LogisticRegression()\n",
      "        \n",
      "        cvlogist = grid_search.GridSearchCV(logist,param_grid,scoring='roc_auc',n_jobs=10,cv=cv2)\n",
      "        shuffler = np.random.permutation(len(y_train))\n",
      "        unshuffler = np.argsort(shuffler)\n",
      "        X_train_cue_shuffled = X_train_cue[shuffler,:]\n",
      "        y_train_shuffled = y_train[shuffler]\n",
      "        cvlogist.fit(X_train_cue_shuffled,y_train_shuffled)\n",
      "        x = cvlogist.predict_proba(X_train_cue_shuffled)\n",
      "        etas_cue_train[winind][:] = np.log(x[:,1]/(1-x[:,1])) \n",
      "        etas_cue_train[winind][:] = etas_cue_train[winind,unshuffler]\n",
      "        cue_model.append(cvlogist)\n",
      "        \n",
      "    X_all_train = np.transpose(np.vstack((np.array(etas_stim_train),np.array(etas_cue_train),etas_pupil_train,etas_HR_train,etas_RT_train)))\n",
      "    cv2 = cross_validation.ShuffleSplit(len(y_train), n_iter=100, test_size=0.3, random_state=4)\n",
      "    cvlogist = grid_search.GridSearchCV(logist,param_grid,scoring='roc_auc',n_jobs=10,cv=cv2)\n",
      "    shuffler = np.random.permutation(len(y_train))\n",
      "    unshuffler = np.argsort(shuffler)\n",
      "    X_all_train_shuffled = X_all_train[shuffler,:]\n",
      "    y_train_shuffled = y_train[shuffler]\n",
      "    cvlogist.fit(X_all_train_shuffled,y_train_shuffled)\n",
      "    etas_cue_test = np.zeros([29,len(y_test)])\n",
      "    etas_stim_test= np.zeros([29,len(y_test)])\n",
      "\n",
      "    for winind in range(29):\n",
      "        X1_stim = np.transpose(X1_all_stim[winind])\n",
      "        X2_stim = np.transpose(X2_all_stim[winind])\n",
      "        X_stim = np.concatenate((X1_stim,X2_stim),axis=0) \n",
      "        X_test_stim = X_stim[test1]\n",
      "        x = stim_model[winind].predict_proba(X_test_stim)\n",
      "        etas_stim_test[winind][:] = np.log(x[:,1]/(1-x[:,1]))\n",
      "        \n",
      "        X1_cue = np.transpose(X1_all_cue[winind])\n",
      "        X2_cue = np.transpose(X2_all_cue[winind])\n",
      "        X_cue = np.concatenate((X1_cue,X2_cue),axis=0) \n",
      "        X_test_cue = X_cue[test1]\n",
      "        x = cue_model[winind].predict_proba(X_test_cue)\n",
      "        etas_cue_test[winind][:] = np.log(x[:,1]/(1-x[:,1]))\n",
      "    X_all_test = np.transpose(np.vstack((etas_stim_test,etas_cue_test,etas_pupil_test,etas_HR_test,etas_RT_test)))\n",
      "    \n",
      "    etas_test[test1] = cvlogist.predict(X_all_test)\n",
      "\n",
      "print roc_auc_score(y,etas_test)\n"
     ],
     "language": "python",
     "metadata": {},
     "outputs": [
      {
       "output_type": "stream",
       "stream": "stdout",
       "text": [
        "Fold  1\n",
        "Train size:  84\n",
        "Test size:  10\n"
       ]
      }
     ]
    },
    {
     "cell_type": "code",
     "collapsed": false,
     "input": [],
     "language": "python",
     "metadata": {},
     "outputs": []
    }
   ],
   "metadata": {}
  }
 ]
}